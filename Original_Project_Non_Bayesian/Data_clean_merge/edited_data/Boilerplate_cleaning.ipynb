{
 "cells": [
  {
   "cell_type": "markdown",
   "metadata": {},
   "source": [
    "## ELA 2018-2019"
   ]
  },
  {
   "cell_type": "code",
   "execution_count": 1,
   "metadata": {},
   "outputs": [],
   "source": [
    "import pandas as pd\n",
    "import numpy as np\n",
    "\n",
    "df_annual_em_ela_2019 = pd.read_csv(\n",
    "    \"/Users/kashafali/Documents/Duke/Spring23/UDS/Project/Data/2019/Annual EM ELA.csv\"\n",
    ")"
   ]
  },
  {
   "cell_type": "code",
   "execution_count": 2,
   "metadata": {},
   "outputs": [
    {
     "data": {
      "text/plain": [
       "ENTITY_CD             0\n",
       "ENTITY_NAME           0\n",
       "YEAR                  0\n",
       "ASSESSMENT_NAME       0\n",
       "SUBGROUP_NAME         0\n",
       "NUM_TESTED            0\n",
       "NOT_TESTED            0\n",
       "LEVEL1_COUNT          0\n",
       "LEVEL1_%TESTED        0\n",
       "LEVEL2_COUNT          0\n",
       "LEVEL2_%TESTED        0\n",
       "LEVEL3_COUNT          0\n",
       "LEVEL3_%TESTED        0\n",
       "LEVEL4_COUNT          0\n",
       "LEVEL4_%TESTED        0\n",
       "NUM_PROF              0\n",
       "PER_PROF              0\n",
       "TOTAL_SCALE_SCORES    0\n",
       "MEAN_SCORE            0\n",
       "dtype: int64"
      ]
     },
     "execution_count": 2,
     "metadata": {},
     "output_type": "execute_result"
    }
   ],
   "source": [
    "df_annual_em_ela_2019.isnull().sum()"
   ]
  },
  {
   "cell_type": "code",
   "execution_count": 3,
   "metadata": {},
   "outputs": [
    {
     "data": {
      "text/plain": [
       "Index(['ENTITY_CD', 'ENTITY_NAME', 'YEAR', 'ASSESSMENT_NAME', 'SUBGROUP_NAME',\n",
       "       'NUM_TESTED', 'NOT_TESTED', 'LEVEL1_COUNT', 'LEVEL1_%TESTED',\n",
       "       'LEVEL2_COUNT', 'LEVEL2_%TESTED', 'LEVEL3_COUNT', 'LEVEL3_%TESTED',\n",
       "       'LEVEL4_COUNT', 'LEVEL4_%TESTED', 'NUM_PROF', 'PER_PROF',\n",
       "       'TOTAL_SCALE_SCORES', 'MEAN_SCORE'],\n",
       "      dtype='object')"
      ]
     },
     "execution_count": 3,
     "metadata": {},
     "output_type": "execute_result"
    }
   ],
   "source": [
    "df_annual_em_ela_2019.columns"
   ]
  },
  {
   "cell_type": "code",
   "execution_count": 4,
   "metadata": {},
   "outputs": [
    {
     "data": {
      "text/plain": [
       "array(['Hispanic or Latino', 'Homeless', 'Male',\n",
       "       'Non-English Language Learners', 'Not Economically Disadvantaged',\n",
       "       'American Indian or Alaska Native',\n",
       "       'Asian or Native Hawaiian/Other Pacific Islander',\n",
       "       'Black or African American', 'Economically Disadvantaged',\n",
       "       'English Language Learners', 'Female', 'General Education',\n",
       "       'Multiracial', 'All Students', 'In Foster Care', 'Migrant',\n",
       "       'Not Homeless', 'Not in Foster Care', 'Not Migrant',\n",
       "       'Parent in Armed Forces', 'Parent Not in Armed Forces',\n",
       "       'Students with Disabilities', 'White', 'Small Group Total'],\n",
       "      dtype=object)"
      ]
     },
     "execution_count": 4,
     "metadata": {},
     "output_type": "execute_result"
    }
   ],
   "source": [
    "df_annual_em_ela_2019[\"SUBGROUP_NAME\"].unique()"
   ]
  },
  {
   "cell_type": "code",
   "execution_count": 5,
   "metadata": {},
   "outputs": [],
   "source": [
    "# rename Non-English Language Learners to Non-English Language Learner\n",
    "df_annual_em_ela_2019[\"SUBGROUP_NAME\"] = df_annual_em_ela_2019[\"SUBGROUP_NAME\"].replace(\n",
    "    \"Non-English Language Learners\", \"Non-English Language Learner\"\n",
    ")\n",
    "# rename English Language Learners to English Language Learner\n",
    "df_annual_em_ela_2019[\"SUBGROUP_NAME\"] = df_annual_em_ela_2019[\"SUBGROUP_NAME\"].replace(\n",
    "    \"English Language Learners\", \"English Language Learner\"\n",
    ")\n"
   ]
  },
  {
   "cell_type": "code",
   "execution_count": 6,
   "metadata": {},
   "outputs": [],
   "source": [
    "# only keep columns\n",
    "column_names = [\n",
    "    \"ENTITY_CD\",\n",
    "    \"ENTITY_NAME\",\n",
    "    \"YEAR\",\n",
    "    \"ASSESSMENT_NAME\",\n",
    "    \"SUBGROUP_NAME\",\n",
    "    \"NOT_TESTED\",\n",
    "    \"NUM_TESTED\",\n",
    "    \"NUM_PROF\",\n",
    "    \"PER_PROF\",\n",
    "    \"TOTAL_SCALE_SCORES\",\n",
    "    \"MEAN_SCORE\",\n",
    "]"
   ]
  },
  {
   "cell_type": "code",
   "execution_count": 7,
   "metadata": {},
   "outputs": [],
   "source": [
    "df_annual_em_ela_2019 = df_annual_em_ela_2019[column_names]"
   ]
  },
  {
   "cell_type": "code",
   "execution_count": 8,
   "metadata": {},
   "outputs": [
    {
     "data": {
      "text/plain": [
       "ENTITY_CD              int64\n",
       "ENTITY_NAME           object\n",
       "YEAR                   int64\n",
       "ASSESSMENT_NAME       object\n",
       "SUBGROUP_NAME         object\n",
       "NOT_TESTED             int64\n",
       "NUM_TESTED             int64\n",
       "NUM_PROF              object\n",
       "PER_PROF              object\n",
       "TOTAL_SCALE_SCORES    object\n",
       "MEAN_SCORE            object\n",
       "dtype: object"
      ]
     },
     "execution_count": 8,
     "metadata": {},
     "output_type": "execute_result"
    }
   ],
   "source": [
    "df_annual_em_ela_2019.dtypes"
   ]
  },
  {
   "cell_type": "code",
   "execution_count": 9,
   "metadata": {},
   "outputs": [
    {
     "data": {
      "text/plain": [
       "ENTITY_CD             False\n",
       "ENTITY_NAME            True\n",
       "YEAR                  False\n",
       "ASSESSMENT_NAME        True\n",
       "SUBGROUP_NAME          True\n",
       "NOT_TESTED            False\n",
       "NUM_TESTED            False\n",
       "NUM_PROF               True\n",
       "PER_PROF               True\n",
       "TOTAL_SCALE_SCORES     True\n",
       "MEAN_SCORE             True\n",
       "dtype: bool"
      ]
     },
     "execution_count": 9,
     "metadata": {},
     "output_type": "execute_result"
    }
   ],
   "source": [
    "# identify any character in the data\n",
    "df_annual_em_ela_2019.applymap(type).eq(str).any()"
   ]
  },
  {
   "cell_type": "code",
   "execution_count": 10,
   "metadata": {},
   "outputs": [],
   "source": [
    "# replace characters with nan and convert to float\n",
    "df_annual_em_ela_2019[\"NUM_PROF\"] = pd.to_numeric(\n",
    "    df_annual_em_ela_2019[\"NUM_PROF\"].str.extract(\"(\\d+)\", expand=False),\n",
    "    errors=\"coerce\",\n",
    ")\n",
    "\n",
    "df_annual_em_ela_2019[\"PER_PROF\"] = pd.to_numeric(\n",
    "    df_annual_em_ela_2019[\"PER_PROF\"].str.extract(\"(\\d+)\", expand=False),\n",
    "    errors=\"coerce\",\n",
    ")\n",
    "\n",
    "df_annual_em_ela_2019[\"TOTAL_SCALE_SCORES\"] = pd.to_numeric(\n",
    "    df_annual_em_ela_2019[\"TOTAL_SCALE_SCORES\"].str.extract(\"(\\d+)\", expand=False),\n",
    "    errors=\"coerce\",\n",
    ")\n",
    "\n",
    "df_annual_em_ela_2019[\"MEAN_SCORE\"] = pd.to_numeric(\n",
    "    df_annual_em_ela_2019[\"MEAN_SCORE\"].str.extract(\"(\\d+)\", expand=False),\n",
    "    errors=\"coerce\",\n",
    ")"
   ]
  },
  {
   "cell_type": "code",
   "execution_count": 11,
   "metadata": {},
   "outputs": [
    {
     "data": {
      "text/plain": [
       "ENTITY_CD               int64\n",
       "ENTITY_NAME            object\n",
       "YEAR                    int64\n",
       "ASSESSMENT_NAME        object\n",
       "SUBGROUP_NAME          object\n",
       "NOT_TESTED              int64\n",
       "NUM_TESTED              int64\n",
       "NUM_PROF              float64\n",
       "PER_PROF              float64\n",
       "TOTAL_SCALE_SCORES    float64\n",
       "MEAN_SCORE            float64\n",
       "dtype: object"
      ]
     },
     "execution_count": 11,
     "metadata": {},
     "output_type": "execute_result"
    }
   ],
   "source": [
    "df_annual_em_ela_2019.dtypes"
   ]
  },
  {
   "cell_type": "code",
   "execution_count": 12,
   "metadata": {},
   "outputs": [
    {
     "data": {
      "text/html": [
       "<div>\n",
       "<style scoped>\n",
       "    .dataframe tbody tr th:only-of-type {\n",
       "        vertical-align: middle;\n",
       "    }\n",
       "\n",
       "    .dataframe tbody tr th {\n",
       "        vertical-align: top;\n",
       "    }\n",
       "\n",
       "    .dataframe thead th {\n",
       "        text-align: right;\n",
       "    }\n",
       "</style>\n",
       "<table border=\"1\" class=\"dataframe\">\n",
       "  <thead>\n",
       "    <tr style=\"text-align: right;\">\n",
       "      <th></th>\n",
       "      <th>ENTITY_CD</th>\n",
       "      <th>ENTITY_NAME</th>\n",
       "      <th>YEAR</th>\n",
       "      <th>ASSESSMENT_NAME</th>\n",
       "      <th>SUBGROUP_NAME</th>\n",
       "      <th>NOT_TESTED</th>\n",
       "      <th>NUM_TESTED</th>\n",
       "      <th>NUM_PROF</th>\n",
       "      <th>PER_PROF</th>\n",
       "      <th>TOTAL_SCALE_SCORES</th>\n",
       "      <th>MEAN_SCORE</th>\n",
       "    </tr>\n",
       "  </thead>\n",
       "  <tbody>\n",
       "    <tr>\n",
       "      <th>0</th>\n",
       "      <td>331400011071</td>\n",
       "      <td>JUAN MOREL CAMPOS SECONDARY SCHOOL</td>\n",
       "      <td>2018</td>\n",
       "      <td>ELA8</td>\n",
       "      <td>Hispanic or Latino</td>\n",
       "      <td>6</td>\n",
       "      <td>39</td>\n",
       "      <td>7.0</td>\n",
       "      <td>18.0</td>\n",
       "      <td>22910.0</td>\n",
       "      <td>587.0</td>\n",
       "    </tr>\n",
       "    <tr>\n",
       "      <th>1</th>\n",
       "      <td>331400011071</td>\n",
       "      <td>JUAN MOREL CAMPOS SECONDARY SCHOOL</td>\n",
       "      <td>2018</td>\n",
       "      <td>ELA7</td>\n",
       "      <td>Hispanic or Latino</td>\n",
       "      <td>2</td>\n",
       "      <td>36</td>\n",
       "      <td>6.0</td>\n",
       "      <td>17.0</td>\n",
       "      <td>21346.0</td>\n",
       "      <td>593.0</td>\n",
       "    </tr>\n",
       "    <tr>\n",
       "      <th>2</th>\n",
       "      <td>331400011071</td>\n",
       "      <td>JUAN MOREL CAMPOS SECONDARY SCHOOL</td>\n",
       "      <td>2018</td>\n",
       "      <td>ELA6</td>\n",
       "      <td>Hispanic or Latino</td>\n",
       "      <td>2</td>\n",
       "      <td>36</td>\n",
       "      <td>15.0</td>\n",
       "      <td>42.0</td>\n",
       "      <td>21466.0</td>\n",
       "      <td>596.0</td>\n",
       "    </tr>\n",
       "    <tr>\n",
       "      <th>3</th>\n",
       "      <td>331400011071</td>\n",
       "      <td>JUAN MOREL CAMPOS SECONDARY SCHOOL</td>\n",
       "      <td>2018</td>\n",
       "      <td>ELA8</td>\n",
       "      <td>Homeless</td>\n",
       "      <td>2</td>\n",
       "      <td>9</td>\n",
       "      <td>2.0</td>\n",
       "      <td>22.0</td>\n",
       "      <td>5284.0</td>\n",
       "      <td>587.0</td>\n",
       "    </tr>\n",
       "    <tr>\n",
       "      <th>4</th>\n",
       "      <td>331400011071</td>\n",
       "      <td>JUAN MOREL CAMPOS SECONDARY SCHOOL</td>\n",
       "      <td>2018</td>\n",
       "      <td>ELA7</td>\n",
       "      <td>Homeless</td>\n",
       "      <td>1</td>\n",
       "      <td>6</td>\n",
       "      <td>0.0</td>\n",
       "      <td>0.0</td>\n",
       "      <td>3491.0</td>\n",
       "      <td>582.0</td>\n",
       "    </tr>\n",
       "  </tbody>\n",
       "</table>\n",
       "</div>"
      ],
      "text/plain": [
       "      ENTITY_CD                         ENTITY_NAME  YEAR ASSESSMENT_NAME  \\\n",
       "0  331400011071  JUAN MOREL CAMPOS SECONDARY SCHOOL  2018            ELA8   \n",
       "1  331400011071  JUAN MOREL CAMPOS SECONDARY SCHOOL  2018            ELA7   \n",
       "2  331400011071  JUAN MOREL CAMPOS SECONDARY SCHOOL  2018            ELA6   \n",
       "3  331400011071  JUAN MOREL CAMPOS SECONDARY SCHOOL  2018            ELA8   \n",
       "4  331400011071  JUAN MOREL CAMPOS SECONDARY SCHOOL  2018            ELA7   \n",
       "\n",
       "        SUBGROUP_NAME  NOT_TESTED  NUM_TESTED  NUM_PROF  PER_PROF  \\\n",
       "0  Hispanic or Latino           6          39       7.0      18.0   \n",
       "1  Hispanic or Latino           2          36       6.0      17.0   \n",
       "2  Hispanic or Latino           2          36      15.0      42.0   \n",
       "3            Homeless           2           9       2.0      22.0   \n",
       "4            Homeless           1           6       0.0       0.0   \n",
       "\n",
       "   TOTAL_SCALE_SCORES  MEAN_SCORE  \n",
       "0             22910.0       587.0  \n",
       "1             21346.0       593.0  \n",
       "2             21466.0       596.0  \n",
       "3              5284.0       587.0  \n",
       "4              3491.0       582.0  "
      ]
     },
     "execution_count": 12,
     "metadata": {},
     "output_type": "execute_result"
    }
   ],
   "source": [
    "df_annual_em_ela_2019.head()"
   ]
  },
  {
   "cell_type": "code",
   "execution_count": 14,
   "metadata": {},
   "outputs": [],
   "source": [
    "# save to csv\n",
    "\n",
    "df_annual_em_ela_2019.to_csv('edited_data/ELA_edited_2018_19.csv', index=False)"
   ]
  },
  {
   "cell_type": "markdown",
   "metadata": {},
   "source": [
    "## MATH 2018-2019"
   ]
  },
  {
   "cell_type": "code",
   "execution_count": 15,
   "metadata": {},
   "outputs": [
    {
     "data": {
      "text/plain": [
       "ENTITY_CD                0\n",
       "ENTITY_NAME              0\n",
       "YEAR                     0\n",
       "ASSESSMENT_NAME          0\n",
       "SUBGROUP_NAME            0\n",
       "NUM_TESTED               0\n",
       "NOT_TESTED               4\n",
       "LEVEL1_COUNT             0\n",
       "LEVEL1_%TESTED           0\n",
       "LEVEL2_COUNT             0\n",
       "LEVEL2_%TESTED           0\n",
       "LEVEL3_COUNT             0\n",
       "LEVEL3_%TESTED           0\n",
       "LEVEL4_COUNT             0\n",
       "LEVEL4_%TESTED           0\n",
       "LEVEL5_COUNT             0\n",
       "LEVEL5_%TESTED           0\n",
       "NUM_PROF                 0\n",
       "PER_PROF                 0\n",
       "TOTAL_SCALE_SCORES    3132\n",
       "MEAN_SCORE            3132\n",
       "dtype: int64"
      ]
     },
     "execution_count": 15,
     "metadata": {},
     "output_type": "execute_result"
    }
   ],
   "source": [
    "\n",
    "df_annual_em_math_2019 = pd.read_csv(\n",
    "    \"/Users/kashafali/Documents/Duke/Spring23/UDS/Project/Data/2019/Annual EM Math.csv\"\n",
    ")\n",
    "\n",
    "df_annual_em_math_2019.isnull().sum()"
   ]
  },
  {
   "cell_type": "code",
   "execution_count": 16,
   "metadata": {},
   "outputs": [
    {
     "data": {
      "text/plain": [
       "Index(['ENTITY_CD', 'ENTITY_NAME', 'YEAR', 'ASSESSMENT_NAME', 'SUBGROUP_NAME',\n",
       "       'NUM_TESTED', 'NOT_TESTED', 'LEVEL1_COUNT', 'LEVEL1_%TESTED',\n",
       "       'LEVEL2_COUNT', 'LEVEL2_%TESTED', 'LEVEL3_COUNT', 'LEVEL3_%TESTED',\n",
       "       'LEVEL4_COUNT', 'LEVEL4_%TESTED', 'LEVEL5_COUNT', 'LEVEL5_%TESTED',\n",
       "       'NUM_PROF', 'PER_PROF', 'TOTAL_SCALE_SCORES', 'MEAN_SCORE'],\n",
       "      dtype='object')"
      ]
     },
     "execution_count": 16,
     "metadata": {},
     "output_type": "execute_result"
    }
   ],
   "source": [
    "df_annual_em_math_2019.columns"
   ]
  },
  {
   "cell_type": "code",
   "execution_count": 17,
   "metadata": {},
   "outputs": [
    {
     "data": {
      "text/plain": [
       "array(['Not Migrant', 'Parent in Armed Forces',\n",
       "       'Parent Not in Armed Forces', 'All Students',\n",
       "       'American Indian or Alaska Native',\n",
       "       'Asian or Native Hawaiian/Other Pacific Islander',\n",
       "       'Black or African American', 'Economically Disadvantaged',\n",
       "       'English Language Learners', 'Female', 'General Education',\n",
       "       'Hispanic or Latino', 'Homeless', 'Male', 'Multiracial',\n",
       "       'Non-English Language Learners', 'Not Economically Disadvantaged',\n",
       "       'Not Homeless', 'Not in Foster Care', 'Students with Disabilities',\n",
       "       'White', 'In Foster Care', 'Migrant', 'Small Group Total'],\n",
       "      dtype=object)"
      ]
     },
     "execution_count": 17,
     "metadata": {},
     "output_type": "execute_result"
    }
   ],
   "source": [
    "df_annual_em_math_2019[\"SUBGROUP_NAME\"].unique()"
   ]
  },
  {
   "cell_type": "code",
   "execution_count": 18,
   "metadata": {},
   "outputs": [],
   "source": [
    "# rename Non-English Language Learners to Non-English Language Learner\n",
    "df_annual_em_math_2019[\"SUBGROUP_NAME\"] = df_annual_em_math_2019[\"SUBGROUP_NAME\"].replace(\n",
    "    \"Non-English Language Learners\", \"Non-English Language Learner\"\n",
    ")\n",
    "# rename English Language Learners to English Language Learner\n",
    "df_annual_em_math_2019[\"SUBGROUP_NAME\"] = df_annual_em_math_2019[\"SUBGROUP_NAME\"].replace(\n",
    "    \"English Language Learners\", \"English Language Learner\"\n",
    ")"
   ]
  },
  {
   "cell_type": "code",
   "execution_count": 19,
   "metadata": {},
   "outputs": [],
   "source": [
    "df_annual_em_math_2019 = df_annual_em_math_2019[column_names]"
   ]
  },
  {
   "cell_type": "code",
   "execution_count": 21,
   "metadata": {},
   "outputs": [
    {
     "data": {
      "text/plain": [
       "ENTITY_CD              int64\n",
       "ENTITY_NAME           object\n",
       "YEAR                   int64\n",
       "ASSESSMENT_NAME       object\n",
       "SUBGROUP_NAME         object\n",
       "NOT_TESTED            object\n",
       "NUM_TESTED             int64\n",
       "NUM_PROF              object\n",
       "PER_PROF              object\n",
       "TOTAL_SCALE_SCORES    object\n",
       "MEAN_SCORE            object\n",
       "dtype: object"
      ]
     },
     "execution_count": 21,
     "metadata": {},
     "output_type": "execute_result"
    }
   ],
   "source": [
    "df_annual_em_math_2019.dtypes"
   ]
  },
  {
   "cell_type": "code",
   "execution_count": 24,
   "metadata": {},
   "outputs": [
    {
     "data": {
      "text/plain": [
       "ENTITY_CD             False\n",
       "ENTITY_NAME            True\n",
       "YEAR                  False\n",
       "ASSESSMENT_NAME        True\n",
       "SUBGROUP_NAME          True\n",
       "NOT_TESTED             True\n",
       "NUM_TESTED            False\n",
       "NUM_PROF               True\n",
       "PER_PROF               True\n",
       "TOTAL_SCALE_SCORES     True\n",
       "MEAN_SCORE             True\n",
       "dtype: bool"
      ]
     },
     "execution_count": 24,
     "metadata": {},
     "output_type": "execute_result"
    }
   ],
   "source": [
    "# identify any character in the data\n",
    "df_annual_em_math_2019.applymap(type).eq(str).any()"
   ]
  },
  {
   "cell_type": "code",
   "execution_count": 25,
   "metadata": {},
   "outputs": [],
   "source": [
    "# replace characters with nan and convert to float\n",
    "df_annual_em_math_2019[\"NUM_PROF\"] = pd.to_numeric(\n",
    "    df_annual_em_math_2019[\"NUM_PROF\"].str.extract(\"(\\d+)\", expand=False),\n",
    "    errors=\"coerce\",\n",
    ")\n",
    "\n",
    "df_annual_em_math_2019[\"PER_PROF\"] = pd.to_numeric(\n",
    "    df_annual_em_math_2019[\"PER_PROF\"].str.extract(\"(\\d+)\", expand=False),\n",
    "    errors=\"coerce\",\n",
    ")\n",
    "\n",
    "df_annual_em_math_2019[\"TOTAL_SCALE_SCORES\"] = pd.to_numeric(\n",
    "    df_annual_em_math_2019[\"TOTAL_SCALE_SCORES\"].str.extract(\"(\\d+)\", expand=False),\n",
    "    errors=\"coerce\",\n",
    ")\n",
    "\n",
    "df_annual_em_math_2019[\"MEAN_SCORE\"] = pd.to_numeric(\n",
    "    df_annual_em_math_2019[\"MEAN_SCORE\"].str.extract(\"(\\d+)\", expand=False),\n",
    "    errors=\"coerce\",\n",
    ")"
   ]
  },
  {
   "cell_type": "code",
   "execution_count": 26,
   "metadata": {},
   "outputs": [
    {
     "data": {
      "text/plain": [
       "ENTITY_CD               int64\n",
       "ENTITY_NAME            object\n",
       "YEAR                    int64\n",
       "ASSESSMENT_NAME        object\n",
       "SUBGROUP_NAME          object\n",
       "NOT_TESTED             object\n",
       "NUM_TESTED              int64\n",
       "NUM_PROF              float64\n",
       "PER_PROF              float64\n",
       "TOTAL_SCALE_SCORES    float64\n",
       "MEAN_SCORE            float64\n",
       "dtype: object"
      ]
     },
     "execution_count": 26,
     "metadata": {},
     "output_type": "execute_result"
    }
   ],
   "source": [
    "df_annual_em_math_2019.dtypes"
   ]
  },
  {
   "cell_type": "code",
   "execution_count": 27,
   "metadata": {},
   "outputs": [
    {
     "data": {
      "text/html": [
       "<div>\n",
       "<style scoped>\n",
       "    .dataframe tbody tr th:only-of-type {\n",
       "        vertical-align: middle;\n",
       "    }\n",
       "\n",
       "    .dataframe tbody tr th {\n",
       "        vertical-align: top;\n",
       "    }\n",
       "\n",
       "    .dataframe thead th {\n",
       "        text-align: right;\n",
       "    }\n",
       "</style>\n",
       "<table border=\"1\" class=\"dataframe\">\n",
       "  <thead>\n",
       "    <tr style=\"text-align: right;\">\n",
       "      <th></th>\n",
       "      <th>ENTITY_CD</th>\n",
       "      <th>ENTITY_NAME</th>\n",
       "      <th>YEAR</th>\n",
       "      <th>ASSESSMENT_NAME</th>\n",
       "      <th>SUBGROUP_NAME</th>\n",
       "      <th>NOT_TESTED</th>\n",
       "      <th>NUM_TESTED</th>\n",
       "      <th>NUM_PROF</th>\n",
       "      <th>PER_PROF</th>\n",
       "      <th>TOTAL_SCALE_SCORES</th>\n",
       "      <th>MEAN_SCORE</th>\n",
       "    </tr>\n",
       "  </thead>\n",
       "  <tbody>\n",
       "    <tr>\n",
       "      <th>0</th>\n",
       "      <td>3</td>\n",
       "      <td>High Need/Resource Urban-Suburban Districts</td>\n",
       "      <td>2018</td>\n",
       "      <td>MATH6</td>\n",
       "      <td>Not Migrant</td>\n",
       "      <td>3825</td>\n",
       "      <td>12247</td>\n",
       "      <td>3006.0</td>\n",
       "      <td>25.0</td>\n",
       "      <td>7224468.0</td>\n",
       "      <td>590.0</td>\n",
       "    </tr>\n",
       "    <tr>\n",
       "      <th>1</th>\n",
       "      <td>3</td>\n",
       "      <td>High Need/Resource Urban-Suburban Districts</td>\n",
       "      <td>2018</td>\n",
       "      <td>MATH6</td>\n",
       "      <td>Parent in Armed Forces</td>\n",
       "      <td>3</td>\n",
       "      <td>24</td>\n",
       "      <td>15.0</td>\n",
       "      <td>63.0</td>\n",
       "      <td>14495.0</td>\n",
       "      <td>604.0</td>\n",
       "    </tr>\n",
       "    <tr>\n",
       "      <th>2</th>\n",
       "      <td>3</td>\n",
       "      <td>High Need/Resource Urban-Suburban Districts</td>\n",
       "      <td>2018</td>\n",
       "      <td>MATH3</td>\n",
       "      <td>Parent in Armed Forces</td>\n",
       "      <td>0</td>\n",
       "      <td>59</td>\n",
       "      <td>35.0</td>\n",
       "      <td>59.0</td>\n",
       "      <td>35407.0</td>\n",
       "      <td>600.0</td>\n",
       "    </tr>\n",
       "    <tr>\n",
       "      <th>3</th>\n",
       "      <td>3</td>\n",
       "      <td>High Need/Resource Urban-Suburban Districts</td>\n",
       "      <td>2018</td>\n",
       "      <td>MATH5</td>\n",
       "      <td>Parent in Armed Forces</td>\n",
       "      <td>4</td>\n",
       "      <td>53</td>\n",
       "      <td>24.0</td>\n",
       "      <td>45.0</td>\n",
       "      <td>31730.0</td>\n",
       "      <td>599.0</td>\n",
       "    </tr>\n",
       "    <tr>\n",
       "      <th>4</th>\n",
       "      <td>3</td>\n",
       "      <td>High Need/Resource Urban-Suburban Districts</td>\n",
       "      <td>2018</td>\n",
       "      <td>MATH8</td>\n",
       "      <td>Parent in Armed Forces</td>\n",
       "      <td>8</td>\n",
       "      <td>16</td>\n",
       "      <td>3.0</td>\n",
       "      <td>19.0</td>\n",
       "      <td>9588.0</td>\n",
       "      <td>599.0</td>\n",
       "    </tr>\n",
       "  </tbody>\n",
       "</table>\n",
       "</div>"
      ],
      "text/plain": [
       "   ENTITY_CD                                  ENTITY_NAME  YEAR  \\\n",
       "0          3  High Need/Resource Urban-Suburban Districts  2018   \n",
       "1          3  High Need/Resource Urban-Suburban Districts  2018   \n",
       "2          3  High Need/Resource Urban-Suburban Districts  2018   \n",
       "3          3  High Need/Resource Urban-Suburban Districts  2018   \n",
       "4          3  High Need/Resource Urban-Suburban Districts  2018   \n",
       "\n",
       "  ASSESSMENT_NAME           SUBGROUP_NAME NOT_TESTED  NUM_TESTED  NUM_PROF  \\\n",
       "0           MATH6             Not Migrant       3825       12247    3006.0   \n",
       "1           MATH6  Parent in Armed Forces          3          24      15.0   \n",
       "2           MATH3  Parent in Armed Forces          0          59      35.0   \n",
       "3           MATH5  Parent in Armed Forces          4          53      24.0   \n",
       "4           MATH8  Parent in Armed Forces          8          16       3.0   \n",
       "\n",
       "   PER_PROF  TOTAL_SCALE_SCORES  MEAN_SCORE  \n",
       "0      25.0           7224468.0       590.0  \n",
       "1      63.0             14495.0       604.0  \n",
       "2      59.0             35407.0       600.0  \n",
       "3      45.0             31730.0       599.0  \n",
       "4      19.0              9588.0       599.0  "
      ]
     },
     "execution_count": 27,
     "metadata": {},
     "output_type": "execute_result"
    }
   ],
   "source": [
    "df_annual_em_math_2019.head()"
   ]
  },
  {
   "cell_type": "code",
   "execution_count": 28,
   "metadata": {},
   "outputs": [],
   "source": [
    "# save to csv\n",
    "\n",
    "df_annual_em_math_2019.to_csv('edited_data/math_edited_2018_19.csv', index=False)"
   ]
  },
  {
   "cell_type": "markdown",
   "metadata": {},
   "source": [
    "## Science 2018-19"
   ]
  },
  {
   "cell_type": "code",
   "execution_count": 29,
   "metadata": {},
   "outputs": [
    {
     "data": {
      "text/plain": [
       "ENTITY_CD                 0\n",
       "ENTITY_NAME               0\n",
       "YEAR                      0\n",
       "ASSESSMENT_NAME           0\n",
       "SUBGROUP_NAME             0\n",
       "NUM_TESTED                0\n",
       "NOT_TESTED                0\n",
       "LEVEL1_COUNT              0\n",
       "LEVEL1_%TESTED            0\n",
       "LEVEL2_COUNT              0\n",
       "LEVEL2_%TESTED            0\n",
       "LEVEL3_COUNT              0\n",
       "LEVEL3_%TESTED            0\n",
       "LEVEL4_COUNT              0\n",
       "LEVEL4_%TESTED            0\n",
       "NUM_PROF                  0\n",
       "PER_PROF               3984\n",
       "TOTAL_SCALE_SCORES    32669\n",
       "MEAN_SCORE            32669\n",
       "dtype: int64"
      ]
     },
     "execution_count": 29,
     "metadata": {},
     "output_type": "execute_result"
    }
   ],
   "source": [
    "\n",
    "df_annual_em_sci_2019 = pd.read_csv(\n",
    "    \"/Users/kashafali/Documents/Duke/Spring23/UDS/Project/Data/2019/Annual EM Science.csv\"\n",
    ")\n",
    "\n",
    "df_annual_em_sci_2019.isnull().sum()"
   ]
  },
  {
   "cell_type": "code",
   "execution_count": 30,
   "metadata": {},
   "outputs": [
    {
     "data": {
      "text/plain": [
       "Index(['ENTITY_CD', 'ENTITY_NAME', 'YEAR', 'ASSESSMENT_NAME', 'SUBGROUP_NAME',\n",
       "       'NUM_TESTED', 'NOT_TESTED', 'LEVEL1_COUNT', 'LEVEL1_%TESTED',\n",
       "       'LEVEL2_COUNT', 'LEVEL2_%TESTED', 'LEVEL3_COUNT', 'LEVEL3_%TESTED',\n",
       "       'LEVEL4_COUNT', 'LEVEL4_%TESTED', 'NUM_PROF', 'PER_PROF',\n",
       "       'TOTAL_SCALE_SCORES', 'MEAN_SCORE'],\n",
       "      dtype='object')"
      ]
     },
     "execution_count": 30,
     "metadata": {},
     "output_type": "execute_result"
    }
   ],
   "source": [
    "df_annual_em_sci_2019.columns"
   ]
  },
  {
   "cell_type": "code",
   "execution_count": 31,
   "metadata": {},
   "outputs": [
    {
     "data": {
      "text/plain": [
       "array(['All Students', 'American Indian or Alaska Native',\n",
       "       'Asian or Native Hawaiian/Other Pacific Islander',\n",
       "       'Black or African American', 'Economically Disadvantaged',\n",
       "       'English Language Learners', 'Female', 'General Education',\n",
       "       'Hispanic or Latino', 'Homeless', 'Male', 'Multiracial',\n",
       "       'Non-English Language Learners', 'Not Economically Disadvantaged',\n",
       "       'Not Homeless', 'Not in Foster Care', 'Not Migrant',\n",
       "       'Parent in Armed Forces', 'Parent Not in Armed Forces',\n",
       "       'Students with Disabilities', 'White', 'In Foster Care', 'Migrant',\n",
       "       'Small Group Total'], dtype=object)"
      ]
     },
     "execution_count": 31,
     "metadata": {},
     "output_type": "execute_result"
    }
   ],
   "source": [
    "df_annual_em_sci_2019[\"SUBGROUP_NAME\"].unique()"
   ]
  },
  {
   "cell_type": "code",
   "execution_count": 32,
   "metadata": {},
   "outputs": [],
   "source": [
    "# rename Non-English Language Learners to Non-English Language Learner\n",
    "df_annual_em_sci_2019[\"SUBGROUP_NAME\"] = df_annual_em_sci_2019[\"SUBGROUP_NAME\"].replace(\n",
    "    \"Non-English Language Learners\", \"Non-English Language Learner\"\n",
    ")\n",
    "# rename English Language Learners to English Language Learner\n",
    "df_annual_em_sci_2019[\"SUBGROUP_NAME\"] = df_annual_em_sci_2019[\"SUBGROUP_NAME\"].replace(\n",
    "    \"English Language Learners\", \"English Language Learner\"\n",
    ")"
   ]
  },
  {
   "cell_type": "code",
   "execution_count": 33,
   "metadata": {},
   "outputs": [],
   "source": [
    "df_annual_em_sci_2019 = df_annual_em_sci_2019[column_names]"
   ]
  },
  {
   "cell_type": "code",
   "execution_count": 34,
   "metadata": {},
   "outputs": [
    {
     "data": {
      "text/plain": [
       "ENTITY_CD              int64\n",
       "ENTITY_NAME           object\n",
       "YEAR                   int64\n",
       "ASSESSMENT_NAME       object\n",
       "SUBGROUP_NAME         object\n",
       "NOT_TESTED            object\n",
       "NUM_TESTED             int64\n",
       "NUM_PROF              object\n",
       "PER_PROF              object\n",
       "TOTAL_SCALE_SCORES    object\n",
       "MEAN_SCORE            object\n",
       "dtype: object"
      ]
     },
     "execution_count": 34,
     "metadata": {},
     "output_type": "execute_result"
    }
   ],
   "source": [
    "df_annual_em_sci_2019.dtypes"
   ]
  },
  {
   "cell_type": "code",
   "execution_count": 35,
   "metadata": {},
   "outputs": [
    {
     "data": {
      "text/plain": [
       "ENTITY_CD             False\n",
       "ENTITY_NAME            True\n",
       "YEAR                  False\n",
       "ASSESSMENT_NAME        True\n",
       "SUBGROUP_NAME          True\n",
       "NOT_TESTED             True\n",
       "NUM_TESTED            False\n",
       "NUM_PROF               True\n",
       "PER_PROF               True\n",
       "TOTAL_SCALE_SCORES     True\n",
       "MEAN_SCORE             True\n",
       "dtype: bool"
      ]
     },
     "execution_count": 35,
     "metadata": {},
     "output_type": "execute_result"
    }
   ],
   "source": [
    "df_annual_em_sci_2019.applymap(type).eq(str).any()"
   ]
  },
  {
   "cell_type": "code",
   "execution_count": 36,
   "metadata": {},
   "outputs": [],
   "source": [
    "# replace characters with nan and convert to float\n",
    "df_annual_em_sci_2019[\"NUM_PROF\"] = pd.to_numeric(\n",
    "    df_annual_em_sci_2019[\"NUM_PROF\"].str.extract(\"(\\d+)\", expand=False),\n",
    "    errors=\"coerce\",\n",
    ")\n",
    "\n",
    "df_annual_em_sci_2019[\"PER_PROF\"] = pd.to_numeric(\n",
    "    df_annual_em_sci_2019[\"PER_PROF\"].str.extract(\"(\\d+)\", expand=False),\n",
    "    errors=\"coerce\",\n",
    ")\n",
    "\n",
    "df_annual_em_sci_2019[\"TOTAL_SCALE_SCORES\"] = pd.to_numeric(\n",
    "    df_annual_em_sci_2019[\"TOTAL_SCALE_SCORES\"].str.extract(\"(\\d+)\", expand=False),\n",
    "    errors=\"coerce\",\n",
    ")\n",
    "\n",
    "df_annual_em_sci_2019[\"MEAN_SCORE\"] = pd.to_numeric(\n",
    "    df_annual_em_sci_2019[\"MEAN_SCORE\"].str.extract(\"(\\d+)\", expand=False),\n",
    "    errors=\"coerce\",\n",
    ")"
   ]
  },
  {
   "cell_type": "code",
   "execution_count": 37,
   "metadata": {},
   "outputs": [
    {
     "data": {
      "text/plain": [
       "ENTITY_CD               int64\n",
       "ENTITY_NAME            object\n",
       "YEAR                    int64\n",
       "ASSESSMENT_NAME        object\n",
       "SUBGROUP_NAME          object\n",
       "NOT_TESTED             object\n",
       "NUM_TESTED              int64\n",
       "NUM_PROF              float64\n",
       "PER_PROF              float64\n",
       "TOTAL_SCALE_SCORES    float64\n",
       "MEAN_SCORE            float64\n",
       "dtype: object"
      ]
     },
     "execution_count": 37,
     "metadata": {},
     "output_type": "execute_result"
    }
   ],
   "source": [
    "df_annual_em_sci_2019.dtypes"
   ]
  },
  {
   "cell_type": "code",
   "execution_count": 38,
   "metadata": {},
   "outputs": [
    {
     "data": {
      "text/html": [
       "<div>\n",
       "<style scoped>\n",
       "    .dataframe tbody tr th:only-of-type {\n",
       "        vertical-align: middle;\n",
       "    }\n",
       "\n",
       "    .dataframe tbody tr th {\n",
       "        vertical-align: top;\n",
       "    }\n",
       "\n",
       "    .dataframe thead th {\n",
       "        text-align: right;\n",
       "    }\n",
       "</style>\n",
       "<table border=\"1\" class=\"dataframe\">\n",
       "  <thead>\n",
       "    <tr style=\"text-align: right;\">\n",
       "      <th></th>\n",
       "      <th>ENTITY_CD</th>\n",
       "      <th>ENTITY_NAME</th>\n",
       "      <th>YEAR</th>\n",
       "      <th>ASSESSMENT_NAME</th>\n",
       "      <th>SUBGROUP_NAME</th>\n",
       "      <th>NOT_TESTED</th>\n",
       "      <th>NUM_TESTED</th>\n",
       "      <th>NUM_PROF</th>\n",
       "      <th>PER_PROF</th>\n",
       "      <th>TOTAL_SCALE_SCORES</th>\n",
       "      <th>MEAN_SCORE</th>\n",
       "    </tr>\n",
       "  </thead>\n",
       "  <tbody>\n",
       "    <tr>\n",
       "      <th>0</th>\n",
       "      <td>1</td>\n",
       "      <td>NYC Public Schools</td>\n",
       "      <td>2018</td>\n",
       "      <td>Science4</td>\n",
       "      <td>All Students</td>\n",
       "      <td>8549</td>\n",
       "      <td>68089</td>\n",
       "      <td>59021.0</td>\n",
       "      <td>87.0</td>\n",
       "      <td>5510492.0</td>\n",
       "      <td>81.0</td>\n",
       "    </tr>\n",
       "    <tr>\n",
       "      <th>1</th>\n",
       "      <td>1</td>\n",
       "      <td>NYC Public Schools</td>\n",
       "      <td>2018</td>\n",
       "      <td>Science8</td>\n",
       "      <td>All Students</td>\n",
       "      <td>23690</td>\n",
       "      <td>47519</td>\n",
       "      <td>25375.0</td>\n",
       "      <td>53.0</td>\n",
       "      <td>3062957.0</td>\n",
       "      <td>64.0</td>\n",
       "    </tr>\n",
       "    <tr>\n",
       "      <th>2</th>\n",
       "      <td>1</td>\n",
       "      <td>NYC Public Schools</td>\n",
       "      <td>2018</td>\n",
       "      <td>RegentsScience8</td>\n",
       "      <td>All Students</td>\n",
       "      <td>s</td>\n",
       "      <td>14463</td>\n",
       "      <td>11338.0</td>\n",
       "      <td>78.0</td>\n",
       "      <td>NaN</td>\n",
       "      <td>NaN</td>\n",
       "    </tr>\n",
       "    <tr>\n",
       "      <th>3</th>\n",
       "      <td>1</td>\n",
       "      <td>NYC Public Schools</td>\n",
       "      <td>2018</td>\n",
       "      <td>CombinedScience</td>\n",
       "      <td>All Students</td>\n",
       "      <td>23690</td>\n",
       "      <td>61982</td>\n",
       "      <td>36713.0</td>\n",
       "      <td>59.0</td>\n",
       "      <td>3062957.0</td>\n",
       "      <td>49.0</td>\n",
       "    </tr>\n",
       "    <tr>\n",
       "      <th>4</th>\n",
       "      <td>1</td>\n",
       "      <td>NYC Public Schools</td>\n",
       "      <td>2018</td>\n",
       "      <td>Science4_8</td>\n",
       "      <td>All Students</td>\n",
       "      <td>32239</td>\n",
       "      <td>130071</td>\n",
       "      <td>95734.0</td>\n",
       "      <td>74.0</td>\n",
       "      <td>8573449.0</td>\n",
       "      <td>66.0</td>\n",
       "    </tr>\n",
       "  </tbody>\n",
       "</table>\n",
       "</div>"
      ],
      "text/plain": [
       "   ENTITY_CD         ENTITY_NAME  YEAR   ASSESSMENT_NAME SUBGROUP_NAME  \\\n",
       "0          1  NYC Public Schools  2018          Science4  All Students   \n",
       "1          1  NYC Public Schools  2018          Science8  All Students   \n",
       "2          1  NYC Public Schools  2018   RegentsScience8  All Students   \n",
       "3          1  NYC Public Schools  2018  CombinedScience   All Students   \n",
       "4          1  NYC Public Schools  2018        Science4_8  All Students   \n",
       "\n",
       "  NOT_TESTED  NUM_TESTED  NUM_PROF  PER_PROF  TOTAL_SCALE_SCORES  MEAN_SCORE  \n",
       "0       8549       68089   59021.0      87.0           5510492.0        81.0  \n",
       "1      23690       47519   25375.0      53.0           3062957.0        64.0  \n",
       "2          s       14463   11338.0      78.0                 NaN         NaN  \n",
       "3      23690       61982   36713.0      59.0           3062957.0        49.0  \n",
       "4      32239      130071   95734.0      74.0           8573449.0        66.0  "
      ]
     },
     "execution_count": 38,
     "metadata": {},
     "output_type": "execute_result"
    }
   ],
   "source": [
    "df_annual_em_sci_2019.head()"
   ]
  },
  {
   "cell_type": "code",
   "execution_count": 39,
   "metadata": {},
   "outputs": [],
   "source": [
    "# save to csv\n",
    "\n",
    "df_annual_em_sci_2019.to_csv('edited_data/sci_edited_2018_19.csv', index=False)"
   ]
  },
  {
   "cell_type": "markdown",
   "metadata": {},
   "source": [
    "## ELA 2021-2022"
   ]
  },
  {
   "cell_type": "code",
   "execution_count": 40,
   "metadata": {},
   "outputs": [
    {
     "data": {
      "text/plain": [
       "INSTITUTION_ID        18418\n",
       "ENTITY_CD                 0\n",
       "ENTITY_NAME               0\n",
       "YEAR                      0\n",
       "ASSESSMENT_NAME           0\n",
       "SUBGROUP_NAME             0\n",
       "TOTAL_COUNT               0\n",
       "NOT_TESTED                0\n",
       "PCT_NOT_TESTED            0\n",
       "NUM_TESTED                0\n",
       "PCT_TESTED                0\n",
       "LEVEL1_COUNT              0\n",
       "LEVEL1_%TESTED        47961\n",
       "LEVEL2_COUNT              0\n",
       "LEVEL2_%TESTED        47961\n",
       "LEVEL3_COUNT              0\n",
       "LEVEL3_%TESTED        47961\n",
       "LEVEL4_COUNT              0\n",
       "LEVEL4_%TESTED        47961\n",
       "NUM_PROF                  0\n",
       "PER_PROF              47961\n",
       "TOTAL_SCALE_SCORES    56627\n",
       "MEAN_SCORE            56627\n",
       "dtype: int64"
      ]
     },
     "execution_count": 40,
     "metadata": {},
     "output_type": "execute_result"
    }
   ],
   "source": [
    "\n",
    "df_annual_em_ela_2022 = pd.read_csv(\n",
    "    \"/Users/kashafali/Documents/Duke/Spring23/UDS/Project/Data/2022/Annual EM ELA.csv\"\n",
    ")\n",
    "\n",
    "df_annual_em_ela_2022.isnull().sum()"
   ]
  },
  {
   "cell_type": "code",
   "execution_count": 45,
   "metadata": {},
   "outputs": [
    {
     "data": {
      "text/plain": [
       "Index(['INSTITUTION_ID', 'ENTITY_CD', 'ENTITY_NAME', 'YEAR', 'ASSESSMENT_NAME',\n",
       "       'SUBGROUP_NAME', 'TOTAL_COUNT', 'NOT_TESTED', 'PCT_NOT_TESTED',\n",
       "       'NUM_TESTED', 'PCT_TESTED', 'LEVEL1_COUNT', 'LEVEL1_%TESTED',\n",
       "       'LEVEL2_COUNT', 'LEVEL2_%TESTED', 'LEVEL3_COUNT', 'LEVEL3_%TESTED',\n",
       "       'LEVEL4_COUNT', 'LEVEL4_%TESTED', 'NUM_PROF', 'PER_PROF',\n",
       "       'TOTAL_SCALE_SCORES', 'MEAN_SCORE'],\n",
       "      dtype='object')"
      ]
     },
     "execution_count": 45,
     "metadata": {},
     "output_type": "execute_result"
    }
   ],
   "source": [
    "df_annual_em_ela_2022.columns"
   ]
  },
  {
   "cell_type": "code",
   "execution_count": 48,
   "metadata": {},
   "outputs": [
    {
     "data": {
      "text/plain": [
       "array(['All Students', 'Female', 'Male',\n",
       "       'American Indian or Alaska Native', 'Black or African American',\n",
       "       'Hispanic or Latino',\n",
       "       'Asian or Native Hawaiian/Other Pacific Islander', 'White',\n",
       "       'Multiracial', 'General Education Students',\n",
       "       'Students with Disabilities', 'Non-English Language Learner',\n",
       "       'English Language Learner', 'Economically Disadvantaged',\n",
       "       'Not Economically Disadvantaged', 'Migrant', 'Not Migrant',\n",
       "       'Homeless', 'Not Homeless', 'In Foster Care', 'Not in Foster Care',\n",
       "       'Parent in Armed Forces', 'Parent Not in Armed Forces',\n",
       "       'Small Group Total'], dtype=object)"
      ]
     },
     "execution_count": 48,
     "metadata": {},
     "output_type": "execute_result"
    }
   ],
   "source": [
    "df_annual_em_ela_2022[\"SUBGROUP_NAME\"].unique()"
   ]
  },
  {
   "cell_type": "code",
   "execution_count": 47,
   "metadata": {},
   "outputs": [],
   "source": [
    "column_names_22 = [\n",
    "    \"ENTITY_CD\",\n",
    "    \"ENTITY_NAME\",\n",
    "    \"YEAR\",\n",
    "    \"ASSESSMENT_NAME\",\n",
    "    \"SUBGROUP_NAME\",\n",
    "    \"TOTAL_COUNT\",\n",
    "    \"NOT_TESTED\",\n",
    "    \"PCT_NOT_TESTED\",\n",
    "    \"NUM_TESTED\",\n",
    "    \"PCT_TESTED\",\n",
    "    \"NUM_PROF\",\n",
    "    \"PER_PROF\",\n",
    "    \"TOTAL_SCALE_SCORES\",\n",
    "    \"MEAN_SCORE\",\n",
    "]"
   ]
  },
  {
   "cell_type": "code",
   "execution_count": 49,
   "metadata": {},
   "outputs": [],
   "source": [
    "df_annual_em_ela_2022 = df_annual_em_ela_2022[column_names_22]"
   ]
  },
  {
   "cell_type": "code",
   "execution_count": 50,
   "metadata": {},
   "outputs": [
    {
     "data": {
      "text/plain": [
       "ENTITY_CD              int64\n",
       "ENTITY_NAME           object\n",
       "YEAR                   int64\n",
       "ASSESSMENT_NAME       object\n",
       "SUBGROUP_NAME         object\n",
       "TOTAL_COUNT            int64\n",
       "NOT_TESTED             int64\n",
       "PCT_NOT_TESTED         int64\n",
       "NUM_TESTED             int64\n",
       "PCT_TESTED             int64\n",
       "NUM_PROF              object\n",
       "PER_PROF              object\n",
       "TOTAL_SCALE_SCORES    object\n",
       "MEAN_SCORE            object\n",
       "dtype: object"
      ]
     },
     "execution_count": 50,
     "metadata": {},
     "output_type": "execute_result"
    }
   ],
   "source": [
    "df_annual_em_ela_2022.dtypes"
   ]
  },
  {
   "cell_type": "code",
   "execution_count": 51,
   "metadata": {},
   "outputs": [
    {
     "data": {
      "text/plain": [
       "ENTITY_CD             False\n",
       "ENTITY_NAME            True\n",
       "YEAR                  False\n",
       "ASSESSMENT_NAME        True\n",
       "SUBGROUP_NAME          True\n",
       "TOTAL_COUNT           False\n",
       "NOT_TESTED            False\n",
       "PCT_NOT_TESTED        False\n",
       "NUM_TESTED            False\n",
       "PCT_TESTED            False\n",
       "NUM_PROF               True\n",
       "PER_PROF               True\n",
       "TOTAL_SCALE_SCORES     True\n",
       "MEAN_SCORE             True\n",
       "dtype: bool"
      ]
     },
     "execution_count": 51,
     "metadata": {},
     "output_type": "execute_result"
    }
   ],
   "source": [
    "df_annual_em_ela_2022.applymap(type).eq(str).any()"
   ]
  },
  {
   "cell_type": "code",
   "execution_count": 52,
   "metadata": {},
   "outputs": [],
   "source": [
    "# replace characters with nan and convert to float\n",
    "df_annual_em_ela_2022[\"NUM_PROF\"] = pd.to_numeric(\n",
    "    df_annual_em_ela_2022[\"NUM_PROF\"].str.extract(\"(\\d+)\", expand=False),\n",
    "    errors=\"coerce\",\n",
    ")\n",
    "\n",
    "df_annual_em_ela_2022[\"PER_PROF\"] = pd.to_numeric(\n",
    "    df_annual_em_ela_2022[\"PER_PROF\"].str.extract(\"(\\d+)\", expand=False),\n",
    "    errors=\"coerce\",\n",
    ")\n",
    "\n",
    "df_annual_em_ela_2022[\"TOTAL_SCALE_SCORES\"] = pd.to_numeric(\n",
    "    df_annual_em_ela_2022[\"TOTAL_SCALE_SCORES\"].str.extract(\"(\\d+)\", expand=False),\n",
    "    errors=\"coerce\",\n",
    ")\n",
    "\n",
    "df_annual_em_ela_2022[\"MEAN_SCORE\"] = pd.to_numeric(\n",
    "    df_annual_em_ela_2022[\"MEAN_SCORE\"].str.extract(\"(\\d+)\", expand=False),\n",
    "    errors=\"coerce\",\n",
    ")"
   ]
  },
  {
   "cell_type": "code",
   "execution_count": 53,
   "metadata": {},
   "outputs": [
    {
     "data": {
      "text/plain": [
       "ENTITY_CD               int64\n",
       "ENTITY_NAME            object\n",
       "YEAR                    int64\n",
       "ASSESSMENT_NAME        object\n",
       "SUBGROUP_NAME          object\n",
       "TOTAL_COUNT             int64\n",
       "NOT_TESTED              int64\n",
       "PCT_NOT_TESTED          int64\n",
       "NUM_TESTED              int64\n",
       "PCT_TESTED              int64\n",
       "NUM_PROF              float64\n",
       "PER_PROF              float64\n",
       "TOTAL_SCALE_SCORES    float64\n",
       "MEAN_SCORE            float64\n",
       "dtype: object"
      ]
     },
     "execution_count": 53,
     "metadata": {},
     "output_type": "execute_result"
    }
   ],
   "source": [
    "df_annual_em_ela_2022.dtypes"
   ]
  },
  {
   "cell_type": "code",
   "execution_count": 54,
   "metadata": {},
   "outputs": [
    {
     "data": {
      "text/html": [
       "<div>\n",
       "<style scoped>\n",
       "    .dataframe tbody tr th:only-of-type {\n",
       "        vertical-align: middle;\n",
       "    }\n",
       "\n",
       "    .dataframe tbody tr th {\n",
       "        vertical-align: top;\n",
       "    }\n",
       "\n",
       "    .dataframe thead th {\n",
       "        text-align: right;\n",
       "    }\n",
       "</style>\n",
       "<table border=\"1\" class=\"dataframe\">\n",
       "  <thead>\n",
       "    <tr style=\"text-align: right;\">\n",
       "      <th></th>\n",
       "      <th>ENTITY_CD</th>\n",
       "      <th>ENTITY_NAME</th>\n",
       "      <th>YEAR</th>\n",
       "      <th>ASSESSMENT_NAME</th>\n",
       "      <th>SUBGROUP_NAME</th>\n",
       "      <th>TOTAL_COUNT</th>\n",
       "      <th>NOT_TESTED</th>\n",
       "      <th>PCT_NOT_TESTED</th>\n",
       "      <th>NUM_TESTED</th>\n",
       "      <th>PCT_TESTED</th>\n",
       "      <th>NUM_PROF</th>\n",
       "      <th>PER_PROF</th>\n",
       "      <th>TOTAL_SCALE_SCORES</th>\n",
       "      <th>MEAN_SCORE</th>\n",
       "    </tr>\n",
       "  </thead>\n",
       "  <tbody>\n",
       "    <tr>\n",
       "      <th>0</th>\n",
       "      <td>111111111111</td>\n",
       "      <td>All Public Schools</td>\n",
       "      <td>2021</td>\n",
       "      <td>ELA3</td>\n",
       "      <td>All Students</td>\n",
       "      <td>192560</td>\n",
       "      <td>99642</td>\n",
       "      <td>52</td>\n",
       "      <td>92918</td>\n",
       "      <td>48</td>\n",
       "      <td>56106.0</td>\n",
       "      <td>60.0</td>\n",
       "      <td>56059902.0</td>\n",
       "      <td>603.0</td>\n",
       "    </tr>\n",
       "    <tr>\n",
       "      <th>1</th>\n",
       "      <td>111111111111</td>\n",
       "      <td>All Public Schools</td>\n",
       "      <td>2021</td>\n",
       "      <td>ELA3</td>\n",
       "      <td>Female</td>\n",
       "      <td>93485</td>\n",
       "      <td>47472</td>\n",
       "      <td>51</td>\n",
       "      <td>46013</td>\n",
       "      <td>49</td>\n",
       "      <td>28637.0</td>\n",
       "      <td>62.0</td>\n",
       "      <td>27807245.0</td>\n",
       "      <td>604.0</td>\n",
       "    </tr>\n",
       "    <tr>\n",
       "      <th>2</th>\n",
       "      <td>111111111111</td>\n",
       "      <td>All Public Schools</td>\n",
       "      <td>2021</td>\n",
       "      <td>ELA3</td>\n",
       "      <td>Male</td>\n",
       "      <td>99075</td>\n",
       "      <td>52170</td>\n",
       "      <td>53</td>\n",
       "      <td>46905</td>\n",
       "      <td>47</td>\n",
       "      <td>27469.0</td>\n",
       "      <td>59.0</td>\n",
       "      <td>28252657.0</td>\n",
       "      <td>602.0</td>\n",
       "    </tr>\n",
       "    <tr>\n",
       "      <th>3</th>\n",
       "      <td>111111111111</td>\n",
       "      <td>All Public Schools</td>\n",
       "      <td>2021</td>\n",
       "      <td>ELA3</td>\n",
       "      <td>American Indian or Alaska Native</td>\n",
       "      <td>1469</td>\n",
       "      <td>963</td>\n",
       "      <td>66</td>\n",
       "      <td>506</td>\n",
       "      <td>34</td>\n",
       "      <td>249.0</td>\n",
       "      <td>49.0</td>\n",
       "      <td>302414.0</td>\n",
       "      <td>598.0</td>\n",
       "    </tr>\n",
       "    <tr>\n",
       "      <th>4</th>\n",
       "      <td>111111111111</td>\n",
       "      <td>All Public Schools</td>\n",
       "      <td>2021</td>\n",
       "      <td>ELA3</td>\n",
       "      <td>Black or African American</td>\n",
       "      <td>30796</td>\n",
       "      <td>21583</td>\n",
       "      <td>70</td>\n",
       "      <td>9213</td>\n",
       "      <td>30</td>\n",
       "      <td>3962.0</td>\n",
       "      <td>43.0</td>\n",
       "      <td>5471678.0</td>\n",
       "      <td>594.0</td>\n",
       "    </tr>\n",
       "  </tbody>\n",
       "</table>\n",
       "</div>"
      ],
      "text/plain": [
       "      ENTITY_CD         ENTITY_NAME  YEAR ASSESSMENT_NAME  \\\n",
       "0  111111111111  All Public Schools  2021            ELA3   \n",
       "1  111111111111  All Public Schools  2021            ELA3   \n",
       "2  111111111111  All Public Schools  2021            ELA3   \n",
       "3  111111111111  All Public Schools  2021            ELA3   \n",
       "4  111111111111  All Public Schools  2021            ELA3   \n",
       "\n",
       "                      SUBGROUP_NAME  TOTAL_COUNT  NOT_TESTED  PCT_NOT_TESTED  \\\n",
       "0                      All Students       192560       99642              52   \n",
       "1                            Female        93485       47472              51   \n",
       "2                              Male        99075       52170              53   \n",
       "3  American Indian or Alaska Native         1469         963              66   \n",
       "4         Black or African American        30796       21583              70   \n",
       "\n",
       "   NUM_TESTED  PCT_TESTED  NUM_PROF  PER_PROF  TOTAL_SCALE_SCORES  MEAN_SCORE  \n",
       "0       92918          48   56106.0      60.0          56059902.0       603.0  \n",
       "1       46013          49   28637.0      62.0          27807245.0       604.0  \n",
       "2       46905          47   27469.0      59.0          28252657.0       602.0  \n",
       "3         506          34     249.0      49.0            302414.0       598.0  \n",
       "4        9213          30    3962.0      43.0           5471678.0       594.0  "
      ]
     },
     "execution_count": 54,
     "metadata": {},
     "output_type": "execute_result"
    }
   ],
   "source": [
    "df_annual_em_ela_2022.head()"
   ]
  },
  {
   "cell_type": "code",
   "execution_count": 55,
   "metadata": {},
   "outputs": [],
   "source": [
    "# save to csv\n",
    "\n",
    "df_annual_em_ela_2022.to_csv('edited_data/ela_edited_2021_22.csv', index=False)"
   ]
  },
  {
   "cell_type": "markdown",
   "metadata": {},
   "source": [
    "## MATH 2021-2022"
   ]
  },
  {
   "cell_type": "code",
   "execution_count": 56,
   "metadata": {},
   "outputs": [
    {
     "name": "stderr",
     "output_type": "stream",
     "text": [
      "/var/folders/2s/c87gg64118ndg_yrky9zvlnc0000gn/T/ipykernel_55996/630066877.py:1: DtypeWarning: Columns (19,20) have mixed types. Specify dtype option on import or set low_memory=False.\n",
      "  df_annual_em_math_2022 = pd.read_csv(\n"
     ]
    },
    {
     "data": {
      "text/plain": [
       "INSTITUTION_ID         18981\n",
       "ENTITY_CD                  0\n",
       "ENTITY_NAME                0\n",
       "YEAR                       0\n",
       "ASSESSMENT_NAME            0\n",
       "SUBGROUP_NAME              0\n",
       "TOTAL_COUNT             3843\n",
       "NOT_TESTED                 0\n",
       "PCT_NOT_TESTED             2\n",
       "NUM_TESTED                 0\n",
       "PCT_TESTED                 2\n",
       "LEVEL1_COUNT               0\n",
       "LEVEL1_%TESTED         57176\n",
       "LEVEL2_COUNT               0\n",
       "LEVEL2_%TESTED         57176\n",
       "LEVEL3_COUNT               0\n",
       "LEVEL3_%TESTED         57176\n",
       "LEVEL4_COUNT               0\n",
       "LEVEL4_%TESTED         57176\n",
       "LEVEL5_COUNT          631867\n",
       "LEVEL5_%TESTED        633183\n",
       "NUM_PROF                   0\n",
       "PER_PROF               57176\n",
       "TOTAL_SCALE_SCORES     80591\n",
       "MEAN_SCORE             80591\n",
       "TOTAL_EXEMPT          652755\n",
       "NUM_EXEMPT_NTEST      652755\n",
       "PCT_EXEMPT_NTEST      654943\n",
       "NUM_EXEMPT_TEST       652755\n",
       "PCT_EXEMPT_TEST       654943\n",
       "dtype: int64"
      ]
     },
     "execution_count": 56,
     "metadata": {},
     "output_type": "execute_result"
    }
   ],
   "source": [
    "df_annual_em_math_2022 = pd.read_csv(\n",
    "    \"/Users/kashafali/Documents/Duke/Spring23/UDS/Project/Data/2022/Annual EM Math.csv\"\n",
    ")\n",
    "\n",
    "df_annual_em_math_2022.isnull().sum()"
   ]
  },
  {
   "cell_type": "code",
   "execution_count": 57,
   "metadata": {},
   "outputs": [
    {
     "data": {
      "text/plain": [
       "Index(['INSTITUTION_ID', 'ENTITY_CD', 'ENTITY_NAME', 'YEAR', 'ASSESSMENT_NAME',\n",
       "       'SUBGROUP_NAME', 'TOTAL_COUNT', 'NOT_TESTED', 'PCT_NOT_TESTED',\n",
       "       'NUM_TESTED', 'PCT_TESTED', 'LEVEL1_COUNT', 'LEVEL1_%TESTED',\n",
       "       'LEVEL2_COUNT', 'LEVEL2_%TESTED', 'LEVEL3_COUNT', 'LEVEL3_%TESTED',\n",
       "       'LEVEL4_COUNT', 'LEVEL4_%TESTED', 'LEVEL5_COUNT', 'LEVEL5_%TESTED',\n",
       "       'NUM_PROF', 'PER_PROF', 'TOTAL_SCALE_SCORES', 'MEAN_SCORE',\n",
       "       'TOTAL_EXEMPT', 'NUM_EXEMPT_NTEST', 'PCT_EXEMPT_NTEST',\n",
       "       'NUM_EXEMPT_TEST', 'PCT_EXEMPT_TEST'],\n",
       "      dtype='object')"
      ]
     },
     "execution_count": 57,
     "metadata": {},
     "output_type": "execute_result"
    }
   ],
   "source": [
    "df_annual_em_math_2022.columns"
   ]
  },
  {
   "cell_type": "code",
   "execution_count": 58,
   "metadata": {},
   "outputs": [
    {
     "data": {
      "text/plain": [
       "array(['In Foster Care', 'Not in Foster Care', 'Parent in Armed Forces',\n",
       "       'Parent Not in Armed Forces', 'All Students', 'Female', 'Male',\n",
       "       'American Indian or Alaska Native', 'Black or African American',\n",
       "       'Hispanic or Latino',\n",
       "       'Asian or Native Hawaiian/Other Pacific Islander', 'White',\n",
       "       'Multiracial', 'Small Group Total', 'General Education Students',\n",
       "       'Students with Disabilities', 'Non-English Language Learner',\n",
       "       'English Language Learner', 'Economically Disadvantaged',\n",
       "       'Not Economically Disadvantaged', 'Migrant', 'Not Migrant',\n",
       "       'Homeless', 'Not Homeless'], dtype=object)"
      ]
     },
     "execution_count": 58,
     "metadata": {},
     "output_type": "execute_result"
    }
   ],
   "source": [
    "df_annual_em_math_2022[\"SUBGROUP_NAME\"].unique()"
   ]
  },
  {
   "cell_type": "code",
   "execution_count": 59,
   "metadata": {},
   "outputs": [],
   "source": [
    "df_annual_em_math_2022 = df_annual_em_math_2022[column_names_22]"
   ]
  },
  {
   "cell_type": "code",
   "execution_count": 60,
   "metadata": {},
   "outputs": [
    {
     "data": {
      "text/plain": [
       "ENTITY_CD               int64\n",
       "ENTITY_NAME            object\n",
       "YEAR                    int64\n",
       "ASSESSMENT_NAME        object\n",
       "SUBGROUP_NAME          object\n",
       "TOTAL_COUNT           float64\n",
       "NOT_TESTED              int64\n",
       "PCT_NOT_TESTED        float64\n",
       "NUM_TESTED              int64\n",
       "PCT_TESTED            float64\n",
       "NUM_PROF               object\n",
       "PER_PROF               object\n",
       "TOTAL_SCALE_SCORES     object\n",
       "MEAN_SCORE             object\n",
       "dtype: object"
      ]
     },
     "execution_count": 60,
     "metadata": {},
     "output_type": "execute_result"
    }
   ],
   "source": [
    "df_annual_em_math_2022.dtypes"
   ]
  },
  {
   "cell_type": "code",
   "execution_count": 61,
   "metadata": {},
   "outputs": [
    {
     "data": {
      "text/plain": [
       "ENTITY_CD             False\n",
       "ENTITY_NAME            True\n",
       "YEAR                  False\n",
       "ASSESSMENT_NAME        True\n",
       "SUBGROUP_NAME          True\n",
       "TOTAL_COUNT           False\n",
       "NOT_TESTED            False\n",
       "PCT_NOT_TESTED        False\n",
       "NUM_TESTED            False\n",
       "PCT_TESTED            False\n",
       "NUM_PROF               True\n",
       "PER_PROF               True\n",
       "TOTAL_SCALE_SCORES     True\n",
       "MEAN_SCORE             True\n",
       "dtype: bool"
      ]
     },
     "execution_count": 61,
     "metadata": {},
     "output_type": "execute_result"
    }
   ],
   "source": [
    "df_annual_em_math_2022.applymap(type).eq(str).any()"
   ]
  },
  {
   "cell_type": "code",
   "execution_count": 62,
   "metadata": {},
   "outputs": [],
   "source": [
    "# replace characters with nan and convert to float\n",
    "df_annual_em_math_2022[\"NUM_PROF\"] = pd.to_numeric(\n",
    "    df_annual_em_math_2022[\"NUM_PROF\"].str.extract(\"(\\d+)\", expand=False),\n",
    "    errors=\"coerce\",\n",
    ")\n",
    "\n",
    "df_annual_em_math_2022[\"PER_PROF\"] = pd.to_numeric(\n",
    "    df_annual_em_math_2022[\"PER_PROF\"].str.extract(\"(\\d+)\", expand=False),\n",
    "    errors=\"coerce\",\n",
    ")\n",
    "\n",
    "df_annual_em_math_2022[\"TOTAL_SCALE_SCORES\"] = pd.to_numeric(\n",
    "    df_annual_em_math_2022[\"TOTAL_SCALE_SCORES\"].str.extract(\"(\\d+)\", expand=False),\n",
    "    errors=\"coerce\",\n",
    ")\n",
    "\n",
    "df_annual_em_math_2022[\"MEAN_SCORE\"] = pd.to_numeric(\n",
    "    df_annual_em_math_2022[\"MEAN_SCORE\"].str.extract(\"(\\d+)\", expand=False),\n",
    "    errors=\"coerce\",\n",
    ")"
   ]
  },
  {
   "cell_type": "code",
   "execution_count": 63,
   "metadata": {},
   "outputs": [
    {
     "data": {
      "text/plain": [
       "ENTITY_CD               int64\n",
       "ENTITY_NAME            object\n",
       "YEAR                    int64\n",
       "ASSESSMENT_NAME        object\n",
       "SUBGROUP_NAME          object\n",
       "TOTAL_COUNT           float64\n",
       "NOT_TESTED              int64\n",
       "PCT_NOT_TESTED        float64\n",
       "NUM_TESTED              int64\n",
       "PCT_TESTED            float64\n",
       "NUM_PROF              float64\n",
       "PER_PROF              float64\n",
       "TOTAL_SCALE_SCORES    float64\n",
       "MEAN_SCORE            float64\n",
       "dtype: object"
      ]
     },
     "execution_count": 63,
     "metadata": {},
     "output_type": "execute_result"
    }
   ],
   "source": [
    "df_annual_em_math_2022.dtypes"
   ]
  },
  {
   "cell_type": "code",
   "execution_count": 64,
   "metadata": {},
   "outputs": [
    {
     "data": {
      "text/html": [
       "<div>\n",
       "<style scoped>\n",
       "    .dataframe tbody tr th:only-of-type {\n",
       "        vertical-align: middle;\n",
       "    }\n",
       "\n",
       "    .dataframe tbody tr th {\n",
       "        vertical-align: top;\n",
       "    }\n",
       "\n",
       "    .dataframe thead th {\n",
       "        text-align: right;\n",
       "    }\n",
       "</style>\n",
       "<table border=\"1\" class=\"dataframe\">\n",
       "  <thead>\n",
       "    <tr style=\"text-align: right;\">\n",
       "      <th></th>\n",
       "      <th>ENTITY_CD</th>\n",
       "      <th>ENTITY_NAME</th>\n",
       "      <th>YEAR</th>\n",
       "      <th>ASSESSMENT_NAME</th>\n",
       "      <th>SUBGROUP_NAME</th>\n",
       "      <th>TOTAL_COUNT</th>\n",
       "      <th>NOT_TESTED</th>\n",
       "      <th>PCT_NOT_TESTED</th>\n",
       "      <th>NUM_TESTED</th>\n",
       "      <th>PCT_TESTED</th>\n",
       "      <th>NUM_PROF</th>\n",
       "      <th>PER_PROF</th>\n",
       "      <th>TOTAL_SCALE_SCORES</th>\n",
       "      <th>MEAN_SCORE</th>\n",
       "    </tr>\n",
       "  </thead>\n",
       "  <tbody>\n",
       "    <tr>\n",
       "      <th>0</th>\n",
       "      <td>4000000</td>\n",
       "      <td>CATTARAUGUS County</td>\n",
       "      <td>2021</td>\n",
       "      <td>MATH3</td>\n",
       "      <td>In Foster Care</td>\n",
       "      <td>4.0</td>\n",
       "      <td>1</td>\n",
       "      <td>25.0</td>\n",
       "      <td>3</td>\n",
       "      <td>75.0</td>\n",
       "      <td>NaN</td>\n",
       "      <td>NaN</td>\n",
       "      <td>NaN</td>\n",
       "      <td>NaN</td>\n",
       "    </tr>\n",
       "    <tr>\n",
       "      <th>1</th>\n",
       "      <td>4000000</td>\n",
       "      <td>CATTARAUGUS County</td>\n",
       "      <td>2021</td>\n",
       "      <td>MATH3</td>\n",
       "      <td>Not in Foster Care</td>\n",
       "      <td>862.0</td>\n",
       "      <td>139</td>\n",
       "      <td>16.0</td>\n",
       "      <td>723</td>\n",
       "      <td>84.0</td>\n",
       "      <td>NaN</td>\n",
       "      <td>NaN</td>\n",
       "      <td>NaN</td>\n",
       "      <td>NaN</td>\n",
       "    </tr>\n",
       "    <tr>\n",
       "      <th>2</th>\n",
       "      <td>4000000</td>\n",
       "      <td>CATTARAUGUS County</td>\n",
       "      <td>2021</td>\n",
       "      <td>MATH3</td>\n",
       "      <td>Parent in Armed Forces</td>\n",
       "      <td>4.0</td>\n",
       "      <td>0</td>\n",
       "      <td>0.0</td>\n",
       "      <td>4</td>\n",
       "      <td>100.0</td>\n",
       "      <td>NaN</td>\n",
       "      <td>NaN</td>\n",
       "      <td>NaN</td>\n",
       "      <td>NaN</td>\n",
       "    </tr>\n",
       "    <tr>\n",
       "      <th>3</th>\n",
       "      <td>4000000</td>\n",
       "      <td>CATTARAUGUS County</td>\n",
       "      <td>2021</td>\n",
       "      <td>MATH3</td>\n",
       "      <td>Parent Not in Armed Forces</td>\n",
       "      <td>862.0</td>\n",
       "      <td>140</td>\n",
       "      <td>16.0</td>\n",
       "      <td>722</td>\n",
       "      <td>84.0</td>\n",
       "      <td>NaN</td>\n",
       "      <td>NaN</td>\n",
       "      <td>NaN</td>\n",
       "      <td>NaN</td>\n",
       "    </tr>\n",
       "    <tr>\n",
       "      <th>4</th>\n",
       "      <td>5000000</td>\n",
       "      <td>CAYUGA County</td>\n",
       "      <td>2021</td>\n",
       "      <td>MATH3</td>\n",
       "      <td>All Students</td>\n",
       "      <td>642.0</td>\n",
       "      <td>107</td>\n",
       "      <td>17.0</td>\n",
       "      <td>535</td>\n",
       "      <td>83.0</td>\n",
       "      <td>232.0</td>\n",
       "      <td>43.0</td>\n",
       "      <td>316276.0</td>\n",
       "      <td>591.0</td>\n",
       "    </tr>\n",
       "  </tbody>\n",
       "</table>\n",
       "</div>"
      ],
      "text/plain": [
       "   ENTITY_CD         ENTITY_NAME  YEAR ASSESSMENT_NAME  \\\n",
       "0    4000000  CATTARAUGUS County  2021           MATH3   \n",
       "1    4000000  CATTARAUGUS County  2021           MATH3   \n",
       "2    4000000  CATTARAUGUS County  2021           MATH3   \n",
       "3    4000000  CATTARAUGUS County  2021           MATH3   \n",
       "4    5000000       CAYUGA County  2021           MATH3   \n",
       "\n",
       "                SUBGROUP_NAME  TOTAL_COUNT  NOT_TESTED  PCT_NOT_TESTED  \\\n",
       "0              In Foster Care          4.0           1            25.0   \n",
       "1          Not in Foster Care        862.0         139            16.0   \n",
       "2      Parent in Armed Forces          4.0           0             0.0   \n",
       "3  Parent Not in Armed Forces        862.0         140            16.0   \n",
       "4                All Students        642.0         107            17.0   \n",
       "\n",
       "   NUM_TESTED  PCT_TESTED  NUM_PROF  PER_PROF  TOTAL_SCALE_SCORES  MEAN_SCORE  \n",
       "0           3        75.0       NaN       NaN                 NaN         NaN  \n",
       "1         723        84.0       NaN       NaN                 NaN         NaN  \n",
       "2           4       100.0       NaN       NaN                 NaN         NaN  \n",
       "3         722        84.0       NaN       NaN                 NaN         NaN  \n",
       "4         535        83.0     232.0      43.0            316276.0       591.0  "
      ]
     },
     "execution_count": 64,
     "metadata": {},
     "output_type": "execute_result"
    }
   ],
   "source": [
    "df_annual_em_math_2022.head()"
   ]
  },
  {
   "cell_type": "code",
   "execution_count": 65,
   "metadata": {},
   "outputs": [],
   "source": [
    "# save to csv\n",
    "\n",
    "df_annual_em_math_2022.to_csv('edited_data/math_edited_2021_22.csv', index=False)"
   ]
  },
  {
   "cell_type": "markdown",
   "metadata": {},
   "source": [
    "## Science 2021-2022"
   ]
  },
  {
   "cell_type": "code",
   "execution_count": 66,
   "metadata": {},
   "outputs": [
    {
     "data": {
      "text/plain": [
       "INSTITUTION_ID          6525\n",
       "ENTITY_CD                  0\n",
       "ENTITY_NAME                0\n",
       "YEAR                       0\n",
       "ASSESSMENT_NAME            0\n",
       "SUBGROUP_NAME              0\n",
       "TOTAL_COUNT             3197\n",
       "NOT_TESTED                 0\n",
       "PCT_NOT_TESTED             0\n",
       "NUM_TESTED                 0\n",
       "PCT_TESTED                 0\n",
       "LEVEL1_COUNT               0\n",
       "LEVEL1_%TESTED         31248\n",
       "LEVEL2_COUNT               0\n",
       "LEVEL2_%TESTED         31248\n",
       "LEVEL3_COUNT               0\n",
       "LEVEL3_%TESTED         31248\n",
       "LEVEL4_COUNT               0\n",
       "LEVEL4_%TESTED         31248\n",
       "NUM_PROF                   0\n",
       "PER_PROF               31248\n",
       "TOTAL_SCALE_SCORES     46629\n",
       "MEAN_SCORE             46629\n",
       "TOTAL_EXEMPT          221362\n",
       "NUM_EXEMPT_NTEST      221362\n",
       "PCT_EXEMPT_NTEST      222942\n",
       "NUM_EXEMPT_TEST       221362\n",
       "PCT_EXEMPT_TEST       222942\n",
       "dtype: int64"
      ]
     },
     "execution_count": 66,
     "metadata": {},
     "output_type": "execute_result"
    }
   ],
   "source": [
    "df_annual_em_sci_2022 = pd.read_csv(\n",
    "    \"/Users/kashafali/Documents/Duke/Spring23/UDS/Project/Data/2022/Annual EM Science.csv\"\n",
    ")\n",
    "\n",
    "df_annual_em_sci_2022.isnull().sum()"
   ]
  },
  {
   "cell_type": "code",
   "execution_count": 67,
   "metadata": {},
   "outputs": [
    {
     "data": {
      "text/plain": [
       "Index(['INSTITUTION_ID', 'ENTITY_CD', 'ENTITY_NAME', 'YEAR', 'ASSESSMENT_NAME',\n",
       "       'SUBGROUP_NAME', 'TOTAL_COUNT', 'NOT_TESTED', 'PCT_NOT_TESTED',\n",
       "       'NUM_TESTED', 'PCT_TESTED', 'LEVEL1_COUNT', 'LEVEL1_%TESTED',\n",
       "       'LEVEL2_COUNT', 'LEVEL2_%TESTED', 'LEVEL3_COUNT', 'LEVEL3_%TESTED',\n",
       "       'LEVEL4_COUNT', 'LEVEL4_%TESTED', 'NUM_PROF', 'PER_PROF',\n",
       "       'TOTAL_SCALE_SCORES', 'MEAN_SCORE', 'TOTAL_EXEMPT', 'NUM_EXEMPT_NTEST',\n",
       "       'PCT_EXEMPT_NTEST', 'NUM_EXEMPT_TEST', 'PCT_EXEMPT_TEST'],\n",
       "      dtype='object')"
      ]
     },
     "execution_count": 67,
     "metadata": {},
     "output_type": "execute_result"
    }
   ],
   "source": [
    "df_annual_em_sci_2022.columns"
   ]
  },
  {
   "cell_type": "code",
   "execution_count": 68,
   "metadata": {},
   "outputs": [
    {
     "data": {
      "text/plain": [
       "array(['All Students', 'Female', 'Male',\n",
       "       'American Indian or Alaska Native', 'Black or African American',\n",
       "       'Hispanic or Latino',\n",
       "       'Asian or Native Hawaiian/Other Pacific Islander', 'White',\n",
       "       'Multiracial', 'General Education Students',\n",
       "       'Students with Disabilities', 'Non-English Language Learner',\n",
       "       'English Language Learner', 'Economically Disadvantaged',\n",
       "       'Not Economically Disadvantaged', 'Migrant', 'Not Migrant',\n",
       "       'Homeless', 'Not Homeless', 'In Foster Care', 'Not in Foster Care',\n",
       "       'Parent in Armed Forces', 'Parent Not in Armed Forces',\n",
       "       'Small Group Total'], dtype=object)"
      ]
     },
     "execution_count": 68,
     "metadata": {},
     "output_type": "execute_result"
    }
   ],
   "source": [
    "df_annual_em_sci_2022[\"SUBGROUP_NAME\"].unique()"
   ]
  },
  {
   "cell_type": "code",
   "execution_count": 69,
   "metadata": {},
   "outputs": [],
   "source": [
    "df_annual_em_sci_2022 = df_annual_em_sci_2022[column_names_22]"
   ]
  },
  {
   "cell_type": "code",
   "execution_count": 70,
   "metadata": {},
   "outputs": [
    {
     "data": {
      "text/plain": [
       "ENTITY_CD               int64\n",
       "ENTITY_NAME            object\n",
       "YEAR                    int64\n",
       "ASSESSMENT_NAME        object\n",
       "SUBGROUP_NAME          object\n",
       "TOTAL_COUNT           float64\n",
       "NOT_TESTED              int64\n",
       "PCT_NOT_TESTED          int64\n",
       "NUM_TESTED              int64\n",
       "PCT_TESTED              int64\n",
       "NUM_PROF               object\n",
       "PER_PROF               object\n",
       "TOTAL_SCALE_SCORES     object\n",
       "MEAN_SCORE             object\n",
       "dtype: object"
      ]
     },
     "execution_count": 70,
     "metadata": {},
     "output_type": "execute_result"
    }
   ],
   "source": [
    "df_annual_em_sci_2022.dtypes"
   ]
  },
  {
   "cell_type": "code",
   "execution_count": 71,
   "metadata": {},
   "outputs": [
    {
     "data": {
      "text/plain": [
       "ENTITY_CD             False\n",
       "ENTITY_NAME            True\n",
       "YEAR                  False\n",
       "ASSESSMENT_NAME        True\n",
       "SUBGROUP_NAME          True\n",
       "TOTAL_COUNT           False\n",
       "NOT_TESTED            False\n",
       "PCT_NOT_TESTED        False\n",
       "NUM_TESTED            False\n",
       "PCT_TESTED            False\n",
       "NUM_PROF               True\n",
       "PER_PROF               True\n",
       "TOTAL_SCALE_SCORES     True\n",
       "MEAN_SCORE             True\n",
       "dtype: bool"
      ]
     },
     "execution_count": 71,
     "metadata": {},
     "output_type": "execute_result"
    }
   ],
   "source": [
    "df_annual_em_sci_2022.applymap(type).eq(str).any()"
   ]
  },
  {
   "cell_type": "code",
   "execution_count": 72,
   "metadata": {},
   "outputs": [],
   "source": [
    "# replace characters with nan and convert to float\n",
    "df_annual_em_sci_2022[\"NUM_PROF\"] = pd.to_numeric(\n",
    "    df_annual_em_sci_2022[\"NUM_PROF\"].str.extract(\"(\\d+)\", expand=False),\n",
    "    errors=\"coerce\",\n",
    ")\n",
    "\n",
    "df_annual_em_sci_2022[\"PER_PROF\"] = pd.to_numeric(\n",
    "    df_annual_em_sci_2022[\"PER_PROF\"].str.extract(\"(\\d+)\", expand=False),\n",
    "    errors=\"coerce\",\n",
    ")\n",
    "\n",
    "df_annual_em_sci_2022[\"TOTAL_SCALE_SCORES\"] = pd.to_numeric(\n",
    "    df_annual_em_sci_2022[\"TOTAL_SCALE_SCORES\"].str.extract(\"(\\d+)\", expand=False),\n",
    "    errors=\"coerce\",\n",
    ")\n",
    "\n",
    "df_annual_em_sci_2022[\"MEAN_SCORE\"] = pd.to_numeric(\n",
    "    df_annual_em_sci_2022[\"MEAN_SCORE\"].str.extract(\"(\\d+)\", expand=False),\n",
    "    errors=\"coerce\",\n",
    ")"
   ]
  },
  {
   "cell_type": "code",
   "execution_count": 73,
   "metadata": {},
   "outputs": [
    {
     "data": {
      "text/plain": [
       "ENTITY_CD               int64\n",
       "ENTITY_NAME            object\n",
       "YEAR                    int64\n",
       "ASSESSMENT_NAME        object\n",
       "SUBGROUP_NAME          object\n",
       "TOTAL_COUNT           float64\n",
       "NOT_TESTED              int64\n",
       "PCT_NOT_TESTED          int64\n",
       "NUM_TESTED              int64\n",
       "PCT_TESTED              int64\n",
       "NUM_PROF              float64\n",
       "PER_PROF              float64\n",
       "TOTAL_SCALE_SCORES    float64\n",
       "MEAN_SCORE            float64\n",
       "dtype: object"
      ]
     },
     "execution_count": 73,
     "metadata": {},
     "output_type": "execute_result"
    }
   ],
   "source": [
    "df_annual_em_sci_2022.dtypes"
   ]
  },
  {
   "cell_type": "code",
   "execution_count": 74,
   "metadata": {},
   "outputs": [
    {
     "data": {
      "text/html": [
       "<div>\n",
       "<style scoped>\n",
       "    .dataframe tbody tr th:only-of-type {\n",
       "        vertical-align: middle;\n",
       "    }\n",
       "\n",
       "    .dataframe tbody tr th {\n",
       "        vertical-align: top;\n",
       "    }\n",
       "\n",
       "    .dataframe thead th {\n",
       "        text-align: right;\n",
       "    }\n",
       "</style>\n",
       "<table border=\"1\" class=\"dataframe\">\n",
       "  <thead>\n",
       "    <tr style=\"text-align: right;\">\n",
       "      <th></th>\n",
       "      <th>ENTITY_CD</th>\n",
       "      <th>ENTITY_NAME</th>\n",
       "      <th>YEAR</th>\n",
       "      <th>ASSESSMENT_NAME</th>\n",
       "      <th>SUBGROUP_NAME</th>\n",
       "      <th>TOTAL_COUNT</th>\n",
       "      <th>NOT_TESTED</th>\n",
       "      <th>PCT_NOT_TESTED</th>\n",
       "      <th>NUM_TESTED</th>\n",
       "      <th>PCT_TESTED</th>\n",
       "      <th>NUM_PROF</th>\n",
       "      <th>PER_PROF</th>\n",
       "      <th>TOTAL_SCALE_SCORES</th>\n",
       "      <th>MEAN_SCORE</th>\n",
       "    </tr>\n",
       "  </thead>\n",
       "  <tbody>\n",
       "    <tr>\n",
       "      <th>0</th>\n",
       "      <td>111111111111</td>\n",
       "      <td>All Public Schools</td>\n",
       "      <td>2021</td>\n",
       "      <td>Science4</td>\n",
       "      <td>All Students</td>\n",
       "      <td>193111.0</td>\n",
       "      <td>102757</td>\n",
       "      <td>53</td>\n",
       "      <td>90354</td>\n",
       "      <td>47</td>\n",
       "      <td>74535.0</td>\n",
       "      <td>82.0</td>\n",
       "      <td>7051713.0</td>\n",
       "      <td>78.0</td>\n",
       "    </tr>\n",
       "    <tr>\n",
       "      <th>1</th>\n",
       "      <td>111111111111</td>\n",
       "      <td>All Public Schools</td>\n",
       "      <td>2021</td>\n",
       "      <td>Science4</td>\n",
       "      <td>Female</td>\n",
       "      <td>93970.0</td>\n",
       "      <td>49789</td>\n",
       "      <td>53</td>\n",
       "      <td>44181</td>\n",
       "      <td>47</td>\n",
       "      <td>36380.0</td>\n",
       "      <td>82.0</td>\n",
       "      <td>3427961.0</td>\n",
       "      <td>78.0</td>\n",
       "    </tr>\n",
       "    <tr>\n",
       "      <th>2</th>\n",
       "      <td>111111111111</td>\n",
       "      <td>All Public Schools</td>\n",
       "      <td>2021</td>\n",
       "      <td>Science4</td>\n",
       "      <td>Male</td>\n",
       "      <td>99141.0</td>\n",
       "      <td>52968</td>\n",
       "      <td>53</td>\n",
       "      <td>46173</td>\n",
       "      <td>47</td>\n",
       "      <td>38155.0</td>\n",
       "      <td>83.0</td>\n",
       "      <td>3623752.0</td>\n",
       "      <td>78.0</td>\n",
       "    </tr>\n",
       "    <tr>\n",
       "      <th>3</th>\n",
       "      <td>111111111111</td>\n",
       "      <td>All Public Schools</td>\n",
       "      <td>2021</td>\n",
       "      <td>Science4</td>\n",
       "      <td>American Indian or Alaska Native</td>\n",
       "      <td>1400.0</td>\n",
       "      <td>890</td>\n",
       "      <td>64</td>\n",
       "      <td>510</td>\n",
       "      <td>36</td>\n",
       "      <td>384.0</td>\n",
       "      <td>75.0</td>\n",
       "      <td>37603.0</td>\n",
       "      <td>74.0</td>\n",
       "    </tr>\n",
       "    <tr>\n",
       "      <th>4</th>\n",
       "      <td>111111111111</td>\n",
       "      <td>All Public Schools</td>\n",
       "      <td>2021</td>\n",
       "      <td>Science4</td>\n",
       "      <td>Black or African American</td>\n",
       "      <td>31224.0</td>\n",
       "      <td>22574</td>\n",
       "      <td>72</td>\n",
       "      <td>8650</td>\n",
       "      <td>28</td>\n",
       "      <td>5703.0</td>\n",
       "      <td>66.0</td>\n",
       "      <td>592256.0</td>\n",
       "      <td>68.0</td>\n",
       "    </tr>\n",
       "  </tbody>\n",
       "</table>\n",
       "</div>"
      ],
      "text/plain": [
       "      ENTITY_CD         ENTITY_NAME  YEAR ASSESSMENT_NAME  \\\n",
       "0  111111111111  All Public Schools  2021        Science4   \n",
       "1  111111111111  All Public Schools  2021        Science4   \n",
       "2  111111111111  All Public Schools  2021        Science4   \n",
       "3  111111111111  All Public Schools  2021        Science4   \n",
       "4  111111111111  All Public Schools  2021        Science4   \n",
       "\n",
       "                      SUBGROUP_NAME  TOTAL_COUNT  NOT_TESTED  PCT_NOT_TESTED  \\\n",
       "0                      All Students     193111.0      102757              53   \n",
       "1                            Female      93970.0       49789              53   \n",
       "2                              Male      99141.0       52968              53   \n",
       "3  American Indian or Alaska Native       1400.0         890              64   \n",
       "4         Black or African American      31224.0       22574              72   \n",
       "\n",
       "   NUM_TESTED  PCT_TESTED  NUM_PROF  PER_PROF  TOTAL_SCALE_SCORES  MEAN_SCORE  \n",
       "0       90354          47   74535.0      82.0           7051713.0        78.0  \n",
       "1       44181          47   36380.0      82.0           3427961.0        78.0  \n",
       "2       46173          47   38155.0      83.0           3623752.0        78.0  \n",
       "3         510          36     384.0      75.0             37603.0        74.0  \n",
       "4        8650          28    5703.0      66.0            592256.0        68.0  "
      ]
     },
     "execution_count": 74,
     "metadata": {},
     "output_type": "execute_result"
    }
   ],
   "source": [
    "df_annual_em_sci_2022.head()"
   ]
  },
  {
   "cell_type": "code",
   "execution_count": 75,
   "metadata": {},
   "outputs": [],
   "source": [
    "# save to csv\n",
    "\n",
    "df_annual_em_sci_2022.to_csv('edited_data/sci_edited_2021_22.csv', index=False)"
   ]
  }
 ],
 "metadata": {
  "kernelspec": {
   "display_name": "Python 3.10.9 ('base')",
   "language": "python",
   "name": "python3"
  },
  "language_info": {
   "codemirror_mode": {
    "name": "ipython",
    "version": 3
   },
   "file_extension": ".py",
   "mimetype": "text/x-python",
   "name": "python",
   "nbconvert_exporter": "python",
   "pygments_lexer": "ipython3",
   "version": "3.10.9"
  },
  "orig_nbformat": 4,
  "vscode": {
   "interpreter": {
    "hash": "5982d76499e7f564764e2fd1c999ce9ea4b629ad4d67ff3088ad2c0cd3e5fde6"
   }
  }
 },
 "nbformat": 4,
 "nbformat_minor": 2
}
