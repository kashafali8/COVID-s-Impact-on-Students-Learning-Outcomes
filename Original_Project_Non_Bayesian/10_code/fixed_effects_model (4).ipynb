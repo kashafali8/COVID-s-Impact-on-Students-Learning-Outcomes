{
 "cells": [
  {
   "cell_type": "code",
   "execution_count": 86,
   "metadata": {},
   "outputs": [],
   "source": [
    "# !pip install statsmodels\n",
    "# !pip install plotnine"
   ]
  },
  {
   "cell_type": "code",
   "execution_count": 1,
   "metadata": {},
   "outputs": [],
   "source": [
    "import pandas as pd\n",
    "import numpy as np\n",
    "import matplotlib.pyplot as plt\n",
    "import seaborn as sns\n",
    "import statsmodels.api as sm\n",
    "import statsmodels.formula.api as smf\n",
    "import warnings\n",
    "from plotnine import *\n",
    "warnings.filterwarnings('ignore')"
   ]
  },
  {
   "cell_type": "code",
   "execution_count": 2,
   "metadata": {},
   "outputs": [],
   "source": [
    "df = pd.read_csv('/workspaces/IDS701_Final_Project_Du/00_Source_Date/IDS701_final_data.csv')\n",
    "# takes about 55s"
   ]
  },
  {
   "cell_type": "code",
   "execution_count": 3,
   "metadata": {},
   "outputs": [],
   "source": [
    "# drop the first two columns\n",
    "df = df.drop(df.columns[[0, 1]], axis=1)"
   ]
  },
  {
   "cell_type": "code",
   "execution_count": 4,
   "metadata": {},
   "outputs": [
    {
     "data": {
      "text/plain": [
       "Index(['ENTITY_CD', 'YEAR', 'Subject_x', 'ASSESSMENT_NAME', 'ENTITY_NAME',\n",
       "       'SUBGROUP_NAME', 'NOT_TESTED', 'NUM_TESTED', 'NUM_PROF', 'PER_PROF',\n",
       "       'TOTAL_SCALE_SCORES', 'MEAN_SCORE', 'TOTAL_COUNT', 'PCT_NOT_TESTED',\n",
       "       'PCT_TESTED', 'ES_ELA', 'ES_MATH', 'ES_SCI', 'ES', 'MS_ELA', 'MS_MATH',\n",
       "       'MS_SCI', 'MS', 'EM', 'ST_NOTSURE', 'Female_MEAN_SCORE',\n",
       "       'Female_NOT_TESTED', 'Female_NUM_PROF', 'Female_NUM_TESTED',\n",
       "       'Female_PER_PROF', 'Female_TOTAL_SCALE_SCORES', 'Male_MEAN_SCORE',\n",
       "       'Male_NOT_TESTED', 'Male_NUM_PROF', 'Male_NUM_TESTED', 'Male_PER_PROF',\n",
       "       'Male_TOTAL_SCALE_SCORES', 'Female_PCT_NOT_TESTED', 'Female_PCT_TESTED',\n",
       "       'Female_TOTAL_COUNT', 'Male_PCT_NOT_TESTED', 'Male_PCT_TESTED',\n",
       "       'Male_TOTAL_COUNT', 'Subject_y', 'NUM_TESTED_white', 'NUM_PROF_white',\n",
       "       'TOTAL_SCALE_SCORES_white', 'MEAN_SCORE_white', 'NUM_TESTED_non_white',\n",
       "       'NUM_PROF_non_white', 'TOTAL_SCALE_SCORES_non_white',\n",
       "       'MEAN_SCORE_non_white', 'Subject',\n",
       "       'NUM_TESTED_english_language_learners',\n",
       "       'NUM_PROF_english_language_learners',\n",
       "       'TOTAL_SCALE_SCORES_english_language_learners',\n",
       "       'MEAN_SCORE_english_language_learners',\n",
       "       'NUM_TESTED_non-english_language_learners',\n",
       "       'NUM_PROF_non-english_language_learners',\n",
       "       'TOTAL_SCALE_SCORES_non-english_language_learners',\n",
       "       'MEAN_SCORE_non-english_language_learners'],\n",
       "      dtype='object')"
      ]
     },
     "execution_count": 4,
     "metadata": {},
     "output_type": "execute_result"
    }
   ],
   "source": [
    "df.columns"
   ]
  },
  {
   "cell_type": "code",
   "execution_count": 5,
   "metadata": {},
   "outputs": [
    {
     "data": {
      "text/plain": [
       "array(['ELA5', 'ELA3', 'ELA7', 'ELA8', 'ELA6', 'ELA4', 'MATH8', 'MATH7',\n",
       "       'MATH5', 'MATH3', 'MATH6', 'MATH4', 'Science4', 'Science8',\n",
       "       'RegentsScience8'], dtype=object)"
      ]
     },
     "execution_count": 5,
     "metadata": {},
     "output_type": "execute_result"
    }
   ],
   "source": [
    "df['ASSESSMENT_NAME'].unique()"
   ]
  },
  {
   "cell_type": "code",
   "execution_count": 6,
   "metadata": {},
   "outputs": [],
   "source": [
    "\n",
    "model = smf.ols(\"MEAN_SCORE ~ YEAR + ENTITY_CD\", df).fit().summary()"
   ]
  },
  {
   "cell_type": "code",
   "execution_count": 7,
   "metadata": {},
   "outputs": [
    {
     "data": {
      "text/html": [
       "<table class=\"simpletable\">\n",
       "<caption>OLS Regression Results</caption>\n",
       "<tr>\n",
       "  <th>Dep. Variable:</th>       <td>MEAN_SCORE</td>    <th>  R-squared:         </th>  <td>   0.003</td>  \n",
       "</tr>\n",
       "<tr>\n",
       "  <th>Model:</th>                   <td>OLS</td>       <th>  Adj. R-squared:    </th>  <td>   0.003</td>  \n",
       "</tr>\n",
       "<tr>\n",
       "  <th>Method:</th>             <td>Least Squares</td>  <th>  F-statistic:       </th>  <td>1.330e+04</td> \n",
       "</tr>\n",
       "<tr>\n",
       "  <th>Date:</th>             <td>Mon, 24 Apr 2023</td> <th>  Prob (F-statistic):</th>   <td>  0.00</td>   \n",
       "</tr>\n",
       "<tr>\n",
       "  <th>Time:</th>                 <td>00:49:30</td>     <th>  Log-Likelihood:    </th> <td>-6.3420e+07</td>\n",
       "</tr>\n",
       "<tr>\n",
       "  <th>No. Observations:</th>      <td>9488161</td>     <th>  AIC:               </th>  <td>1.268e+08</td> \n",
       "</tr>\n",
       "<tr>\n",
       "  <th>Df Residuals:</th>          <td>9488158</td>     <th>  BIC:               </th>  <td>1.268e+08</td> \n",
       "</tr>\n",
       "<tr>\n",
       "  <th>Df Model:</th>              <td>     2</td>      <th>                     </th>      <td> </td>     \n",
       "</tr>\n",
       "<tr>\n",
       "  <th>Covariance Type:</th>      <td>nonrobust</td>    <th>                     </th>      <td> </td>     \n",
       "</tr>\n",
       "</table>\n",
       "<table class=\"simpletable\">\n",
       "<tr>\n",
       "      <td></td>         <th>coef</th>     <th>std err</th>      <th>t</th>      <th>P>|t|</th>  <th>[0.025</th>    <th>0.975]</th>  \n",
       "</tr>\n",
       "<tr>\n",
       "  <th>Intercept</th> <td>-1.199e+04</td> <td>   80.756</td> <td> -148.480</td> <td> 0.000</td> <td>-1.21e+04</td> <td>-1.18e+04</td>\n",
       "</tr>\n",
       "<tr>\n",
       "  <th>YEAR</th>      <td>    6.1880</td> <td>    0.040</td> <td>  154.784</td> <td> 0.000</td> <td>    6.110</td> <td>    6.266</td>\n",
       "</tr>\n",
       "<tr>\n",
       "  <th>ENTITY_CD</th> <td> 1.363e-06</td> <td> 2.34e-08</td> <td>   58.189</td> <td> 0.000</td> <td> 1.32e-06</td> <td> 1.41e-06</td>\n",
       "</tr>\n",
       "</table>\n",
       "<table class=\"simpletable\">\n",
       "<tr>\n",
       "  <th>Omnibus:</th>       <td>2787109.415</td> <th>  Durbin-Watson:     </th>  <td>   0.000</td>  \n",
       "</tr>\n",
       "<tr>\n",
       "  <th>Prob(Omnibus):</th>   <td> 0.000</td>    <th>  Jarque-Bera (JB):  </th> <td>5988655.423</td>\n",
       "</tr>\n",
       "<tr>\n",
       "  <th>Skew:</th>            <td>-1.824</td>    <th>  Prob(JB):          </th>  <td>    0.00</td>  \n",
       "</tr>\n",
       "<tr>\n",
       "  <th>Kurtosis:</th>        <td> 4.359</td>    <th>  Cond. No.          </th>  <td>4.47e+09</td>  \n",
       "</tr>\n",
       "</table><br/><br/>Notes:<br/>[1] Standard Errors assume that the covariance matrix of the errors is correctly specified.<br/>[2] The condition number is large, 4.47e+09. This might indicate that there are<br/>strong multicollinearity or other numerical problems."
      ],
      "text/plain": [
       "<class 'statsmodels.iolib.summary.Summary'>\n",
       "\"\"\"\n",
       "                            OLS Regression Results                            \n",
       "==============================================================================\n",
       "Dep. Variable:             MEAN_SCORE   R-squared:                       0.003\n",
       "Model:                            OLS   Adj. R-squared:                  0.003\n",
       "Method:                 Least Squares   F-statistic:                 1.330e+04\n",
       "Date:                Mon, 24 Apr 2023   Prob (F-statistic):               0.00\n",
       "Time:                        00:49:30   Log-Likelihood:            -6.3420e+07\n",
       "No. Observations:             9488161   AIC:                         1.268e+08\n",
       "Df Residuals:                 9488158   BIC:                         1.268e+08\n",
       "Df Model:                           2                                         \n",
       "Covariance Type:            nonrobust                                         \n",
       "==============================================================================\n",
       "                 coef    std err          t      P>|t|      [0.025      0.975]\n",
       "------------------------------------------------------------------------------\n",
       "Intercept  -1.199e+04     80.756   -148.480      0.000   -1.21e+04   -1.18e+04\n",
       "YEAR           6.1880      0.040    154.784      0.000       6.110       6.266\n",
       "ENTITY_CD   1.363e-06   2.34e-08     58.189      0.000    1.32e-06    1.41e-06\n",
       "==============================================================================\n",
       "Omnibus:                  2787109.415   Durbin-Watson:                   0.000\n",
       "Prob(Omnibus):                  0.000   Jarque-Bera (JB):          5988655.423\n",
       "Skew:                          -1.824   Prob(JB):                         0.00\n",
       "Kurtosis:                       4.359   Cond. No.                     4.47e+09\n",
       "==============================================================================\n",
       "\n",
       "Notes:\n",
       "[1] Standard Errors assume that the covariance matrix of the errors is correctly specified.\n",
       "[2] The condition number is large, 4.47e+09. This might indicate that there are\n",
       "strong multicollinearity or other numerical problems.\n",
       "\"\"\""
      ]
     },
     "execution_count": 7,
     "metadata": {},
     "output_type": "execute_result"
    }
   ],
   "source": [
    "model"
   ]
  },
  {
   "cell_type": "code",
   "execution_count": 8,
   "metadata": {},
   "outputs": [
    {
     "name": "stdout",
     "output_type": "stream",
     "text": [
      "Index(['MEAN_SCORE', 'Female_MEAN_SCORE', 'Male_MEAN_SCORE',\n",
      "       'MEAN_SCORE_white', 'MEAN_SCORE_non_white',\n",
      "       'MEAN_SCORE_english_language_learners',\n",
      "       'MEAN_SCORE_non-english_language_learners'],\n",
      "      dtype='object')\n"
     ]
    }
   ],
   "source": [
    "pred = df.columns[df.columns.str.contains('MEAN')]\n",
    "print(pred)"
   ]
  },
  {
   "cell_type": "code",
   "execution_count": 9,
   "metadata": {},
   "outputs": [],
   "source": [
    "# df.shape"
   ]
  },
  {
   "cell_type": "code",
   "execution_count": 10,
   "metadata": {},
   "outputs": [],
   "source": [
    "# df['MEAN_SCORE_white'].value_counts()"
   ]
  },
  {
   "cell_type": "code",
   "execution_count": 11,
   "metadata": {},
   "outputs": [],
   "source": [
    "# # encode like this: df.loc[df[white mean scores] > 0, white_or_not] = 1, else 0 (edited) \n",
    "# df['white_or_not'] = df['MEAN_SCORE_white'].apply(lambda x: 1 if x > 0 else 0)\n",
    "# df['female_or_not'] = df['Female_MEAN_SCORE'].apply(lambda x: 1 if x > 0 else 0)"
   ]
  },
  {
   "cell_type": "code",
   "execution_count": 12,
   "metadata": {},
   "outputs": [],
   "source": [
    "# for i in pred:\n",
    "#     print(i)\n",
    "#     model = smf.ols(f\"{i} ~ YEAR\", df).fit().summary()\n",
    "#     print(model)"
   ]
  },
  {
   "cell_type": "code",
   "execution_count": 13,
   "metadata": {},
   "outputs": [
    {
     "data": {
      "text/plain": [
       "array([2018, 2019, 2021, 2022])"
      ]
     },
     "execution_count": 13,
     "metadata": {},
     "output_type": "execute_result"
    }
   ],
   "source": [
    "df['YEAR'].unique()"
   ]
  },
  {
   "cell_type": "code",
   "execution_count": 14,
   "metadata": {},
   "outputs": [],
   "source": [
    "df['treatment'] = df['YEAR'].apply(lambda x: \"Treated\" if x > 2020 else \"Control\")\n",
    "df[\"years_from_policy_change\"] = df[\"YEAR\"] - 2019"
   ]
  },
  {
   "cell_type": "code",
   "execution_count": 15,
   "metadata": {},
   "outputs": [
    {
     "data": {
      "text/html": [
       "<div>\n",
       "<style scoped>\n",
       "    .dataframe tbody tr th:only-of-type {\n",
       "        vertical-align: middle;\n",
       "    }\n",
       "\n",
       "    .dataframe tbody tr th {\n",
       "        vertical-align: top;\n",
       "    }\n",
       "\n",
       "    .dataframe thead th {\n",
       "        text-align: right;\n",
       "    }\n",
       "</style>\n",
       "<table border=\"1\" class=\"dataframe\">\n",
       "  <thead>\n",
       "    <tr style=\"text-align: right;\">\n",
       "      <th></th>\n",
       "      <th>YEAR</th>\n",
       "      <th>treatment</th>\n",
       "      <th>years_from_policy_change</th>\n",
       "      <th>Subject</th>\n",
       "      <th>MEAN_SCORE</th>\n",
       "      <th>Female_MEAN_SCORE</th>\n",
       "      <th>Male_MEAN_SCORE</th>\n",
       "      <th>MEAN_SCORE_white</th>\n",
       "      <th>MEAN_SCORE_non_white</th>\n",
       "      <th>MEAN_SCORE_english_language_learners</th>\n",
       "      <th>MEAN_SCORE_non-english_language_learners</th>\n",
       "    </tr>\n",
       "  </thead>\n",
       "  <tbody>\n",
       "    <tr>\n",
       "      <th>0</th>\n",
       "      <td>2018</td>\n",
       "      <td>Control</td>\n",
       "      <td>-1</td>\n",
       "      <td>ELA</td>\n",
       "      <td>601.0</td>\n",
       "      <td>604.0</td>\n",
       "      <td>598.0</td>\n",
       "      <td>610.0</td>\n",
       "      <td>602.6</td>\n",
       "      <td>580.0</td>\n",
       "      <td>604.0</td>\n",
       "    </tr>\n",
       "    <tr>\n",
       "      <th>1</th>\n",
       "      <td>2018</td>\n",
       "      <td>Control</td>\n",
       "      <td>-1</td>\n",
       "      <td>ELA</td>\n",
       "      <td>601.0</td>\n",
       "      <td>604.0</td>\n",
       "      <td>598.0</td>\n",
       "      <td>610.0</td>\n",
       "      <td>602.6</td>\n",
       "      <td>580.0</td>\n",
       "      <td>604.0</td>\n",
       "    </tr>\n",
       "    <tr>\n",
       "      <th>2</th>\n",
       "      <td>2018</td>\n",
       "      <td>Control</td>\n",
       "      <td>-1</td>\n",
       "      <td>ELA</td>\n",
       "      <td>601.0</td>\n",
       "      <td>604.0</td>\n",
       "      <td>598.0</td>\n",
       "      <td>610.0</td>\n",
       "      <td>602.6</td>\n",
       "      <td>580.0</td>\n",
       "      <td>604.0</td>\n",
       "    </tr>\n",
       "    <tr>\n",
       "      <th>3</th>\n",
       "      <td>2018</td>\n",
       "      <td>Control</td>\n",
       "      <td>-1</td>\n",
       "      <td>ELA</td>\n",
       "      <td>601.0</td>\n",
       "      <td>604.0</td>\n",
       "      <td>598.0</td>\n",
       "      <td>610.0</td>\n",
       "      <td>602.6</td>\n",
       "      <td>580.0</td>\n",
       "      <td>604.0</td>\n",
       "    </tr>\n",
       "    <tr>\n",
       "      <th>4</th>\n",
       "      <td>2018</td>\n",
       "      <td>Control</td>\n",
       "      <td>-1</td>\n",
       "      <td>ELA</td>\n",
       "      <td>601.0</td>\n",
       "      <td>604.0</td>\n",
       "      <td>598.0</td>\n",
       "      <td>610.0</td>\n",
       "      <td>602.6</td>\n",
       "      <td>580.0</td>\n",
       "      <td>604.0</td>\n",
       "    </tr>\n",
       "  </tbody>\n",
       "</table>\n",
       "</div>"
      ],
      "text/plain": [
       "   YEAR treatment  years_from_policy_change Subject  MEAN_SCORE   \n",
       "0  2018   Control                        -1     ELA       601.0  \\\n",
       "1  2018   Control                        -1     ELA       601.0   \n",
       "2  2018   Control                        -1     ELA       601.0   \n",
       "3  2018   Control                        -1     ELA       601.0   \n",
       "4  2018   Control                        -1     ELA       601.0   \n",
       "\n",
       "   Female_MEAN_SCORE  Male_MEAN_SCORE  MEAN_SCORE_white  MEAN_SCORE_non_white   \n",
       "0              604.0            598.0             610.0                 602.6  \\\n",
       "1              604.0            598.0             610.0                 602.6   \n",
       "2              604.0            598.0             610.0                 602.6   \n",
       "3              604.0            598.0             610.0                 602.6   \n",
       "4              604.0            598.0             610.0                 602.6   \n",
       "\n",
       "   MEAN_SCORE_english_language_learners   \n",
       "0                                 580.0  \\\n",
       "1                                 580.0   \n",
       "2                                 580.0   \n",
       "3                                 580.0   \n",
       "4                                 580.0   \n",
       "\n",
       "   MEAN_SCORE_non-english_language_learners  \n",
       "0                                     604.0  \n",
       "1                                     604.0  \n",
       "2                                     604.0  \n",
       "3                                     604.0  \n",
       "4                                     604.0  "
      ]
     },
     "execution_count": 15,
     "metadata": {},
     "output_type": "execute_result"
    }
   ],
   "source": [
    "# keep the columns: YEAR, treatment, and years_from_policy_change, and any columns that contain MEAN in its string\n",
    "df = df[['YEAR', 'treatment', 'years_from_policy_change', \"Subject\"] + list(df.columns[df.columns.str.contains('MEAN')])]\n",
    "df.head()"
   ]
  },
  {
   "cell_type": "code",
   "execution_count": 16,
   "metadata": {},
   "outputs": [],
   "source": [
    "# df.to_csv(\"shortened_data.csv\")"
   ]
  },
  {
   "cell_type": "code",
   "execution_count": 17,
   "metadata": {},
   "outputs": [],
   "source": [
    "# pre_covid = df[df['YEAR'] < 2020]\n",
    "# post_covid = df[df['YEAR'] >= 2020]"
   ]
  },
  {
   "cell_type": "code",
   "execution_count": 18,
   "metadata": {},
   "outputs": [],
   "source": [
    "# # pred: list of column names\n",
    "# # Create a new variable for years from policy change\n",
    "# df[\"years_from_policy_change\"] = df[\"YEAR\"] - 2019\n",
    "\n",
    "# # Create the difference-in-differences plot\n",
    "# g = (\n",
    "#     ggplot(\n",
    "#         df,\n",
    "#         aes(x=\"years_from_policy_change\", y=\"MEAN_SCORE\", color=\"treatment\"),\n",
    "#     )\n",
    "#     + geom_smooth(\n",
    "#         method=\"lm\", data=df[(df[\"years_from_policy_change\"] < 0) & (df[\"treatment\"] == \"Treated\")]\n",
    "#     )\n",
    "#     + geom_smooth(\n",
    "#         method=\"lm\", data=df[(df[\"years_from_policy_change\"] < 0) & (df[\"treatment\"] == \"Control\")]\n",
    "#     )\n",
    "#     + geom_smooth(\n",
    "#         method=\"lm\", data=df[(df[\"years_from_policy_change\"] >= 0) & (df[\"treatment\"] == \"Treated\")]\n",
    "#     )\n",
    "#     + geom_smooth(\n",
    "#         method=\"lm\", data=df[(df[\"years_from_policy_change\"] >= 0) & (df[\"treatment\"] == \"Control\")]\n",
    "#     )\n",
    "#     + geom_vline(xintercept=0, linetype=\"dashed\")\n",
    "#     + geom_text(x=1, y=7, label=\"Post-Policy Change\", color=\"black\")\n",
    "#     + labs(\n",
    "#         title=\"Diff-in-Diff Model Graph for Violent Crime Rate\"\n",
    "#     )\n",
    "#     + xlab(\"Years from Policy Change\")\n",
    "#     + ylab(\"Violent Crime Rate (per 100,000 people)\")\n",
    "#     + theme(legend_position=\"right\")\n",
    "# )\n",
    "# g"
   ]
  },
  {
   "cell_type": "code",
   "execution_count": 19,
   "metadata": {},
   "outputs": [],
   "source": [
    "# randomly select 10000 rows from the dataframe\n",
    "df_new =  df.sample(n=100000, random_state=42)"
   ]
  },
  {
   "cell_type": "code",
   "execution_count": 20,
   "metadata": {},
   "outputs": [
    {
     "data": {
      "text/plain": [
       "array([2022, 2018, 2019, 2021])"
      ]
     },
     "execution_count": 20,
     "metadata": {},
     "output_type": "execute_result"
    }
   ],
   "source": [
    "df_new['YEAR'].unique()"
   ]
  },
  {
   "cell_type": "code",
   "execution_count": 21,
   "metadata": {},
   "outputs": [
    {
     "data": {
      "image/png": "[encoded data removed]",
      "text/plain": [
       "<Figure size 640x480 with 1 Axes>"
      ]
     },
     "metadata": {},
     "output_type": "display_data"
    }
   ],
   "source": [
    "grouped = df_new.groupby(['YEAR', 'treatment'])['MEAN_SCORE'].mean().unstack()\n",
    "\n",
    "# Plot the mean scores for the control and treated groups\n",
    "plt.plot(grouped.index, grouped['Control'], label='Control')\n",
    "plt.plot(grouped.index, grouped['Treated'], label='Treated')\n",
    "plt.xticks(np.arange(2018, 2023, 1))\n",
    "plt.yticks(np.arange(450, 600, 30))\n",
    "# plot a vertical line at the year 2020\n",
    "plt.axvline(x=2020, color='black', linestyle='--')\n",
    "plt.xlabel('Year')\n",
    "plt.ylabel('Mean Score')\n",
    "plt.title('Treatment vs Control Mean Scores')\n",
    "plt.legend()\n",
    "plt.show()"
   ]
  },
  {
   "cell_type": "code",
   "execution_count": 22,
   "metadata": {},
   "outputs": [
    {
     "data": {
      "text/plain": [
       "Index(['MEAN_SCORE', 'Female_MEAN_SCORE', 'Male_MEAN_SCORE',\n",
       "       'MEAN_SCORE_white', 'MEAN_SCORE_non_white',\n",
       "       'MEAN_SCORE_english_language_learners',\n",
       "       'MEAN_SCORE_non-english_language_learners'],\n",
       "      dtype='object')"
      ]
     },
     "execution_count": 22,
     "metadata": {},
     "output_type": "execute_result"
    }
   ],
   "source": [
    "df_new.columns[df_new.columns.str.contains('MEAN')]"
   ]
  },
  {
   "cell_type": "code",
   "execution_count": 23,
   "metadata": {},
   "outputs": [
    {
     "data": {
      "image/png": "[encoded data removed]",
      "text/plain": [
       "<Figure size 640x480 with 1 Axes>"
      ]
     },
     "metadata": {},
     "output_type": "display_data"
    }
   ],
   "source": [
    "# plot the female and male mean scores before and after 2020\n",
    "grouped_female = df_new.groupby(['YEAR', 'treatment'])['Female_MEAN_SCORE'].mean().unstack()\n",
    "grouped_male = df_new.groupby(['YEAR', 'treatment'])['Male_MEAN_SCORE'].mean().unstack()            \n",
    "plt.plot(grouped_female.index, grouped_female['Control'], label='Control for female')\n",
    "plt.plot(grouped_female.index, grouped_female['Treated'], label='Treated for female')\n",
    "plt.plot(grouped_male.index, grouped_male['Control'], label='Control for male')\n",
    "plt.plot(grouped_male.index, grouped_male['Treated'], label='Treated for male')\n",
    "plt.xticks(np.arange(2018, 2023, 1))\n",
    "plt.yticks(np.arange(480, 580, 20))\n",
    "# plot a vertical line at the year 2020\n",
    "plt.axvline(x=2020, color='black', linestyle='--')\n",
    "plt.xlabel('Year')\n",
    "plt.ylabel('Mean Score')\n",
    "plt.title('Treatment vs Control Mean Scores between Female and Male students')\n",
    "plt.legend()\n",
    "plt.show()"
   ]
  },
  {
   "cell_type": "code",
   "execution_count": 24,
   "metadata": {},
   "outputs": [
    {
     "data": {
      "image/png": "[encoded data removed]",
      "text/plain": [
       "<Figure size 640x480 with 1 Axes>"
      ]
     },
     "metadata": {},
     "output_type": "display_data"
    }
   ],
   "source": [
    "# plot the female and male mean scores before and after 2020\n",
    "grouped_white = df_new.groupby(['YEAR', 'treatment'])['MEAN_SCORE_white'].mean().unstack()\n",
    "grouped_non_white = df_new.groupby(['YEAR', 'treatment'])['MEAN_SCORE_non_white'].mean().unstack()            \n",
    "plt.plot(grouped_white.index, grouped_white['Control'], label='Control for white')\n",
    "plt.plot(grouped_white.index, grouped_white['Treated'], label='Treated for white')\n",
    "plt.plot(grouped_non_white.index, grouped_non_white['Control'], label='Control for non-white')\n",
    "plt.plot(grouped_non_white.index, grouped_non_white['Treated'], label='Treated for non-white')\n",
    "plt.xticks(np.arange(2018, 2023, 1))\n",
    "plt.yticks(np.arange(400, 660, 40))\n",
    "plt.axvline(x=2020, color='black', linestyle='--')\n",
    "plt.xlabel('Year')\n",
    "plt.ylabel('Mean Score')\n",
    "plt.title('Treatment vs Control Mean Scores between White and Non-White students')\n",
    "plt.legend()\n",
    "plt.show()"
   ]
  },
  {
   "cell_type": "code",
   "execution_count": 25,
   "metadata": {},
   "outputs": [
    {
     "data": {
      "text/plain": [
       "Index(['YEAR', 'treatment', 'years_from_policy_change', 'Subject',\n",
       "       'MEAN_SCORE', 'Female_MEAN_SCORE', 'Male_MEAN_SCORE',\n",
       "       'MEAN_SCORE_white', 'MEAN_SCORE_non_white',\n",
       "       'MEAN_SCORE_english_language_learners',\n",
       "       'MEAN_SCORE_non-english_language_learners'],\n",
       "      dtype='object')"
      ]
     },
     "execution_count": 25,
     "metadata": {},
     "output_type": "execute_result"
    }
   ],
   "source": [
    "df_new.columns"
   ]
  },
  {
   "cell_type": "code",
   "execution_count": 26,
   "metadata": {},
   "outputs": [],
   "source": [
    "df_new.groupby(['YEAR', 'treatment', 'Subject'])['MEAN_SCORE'].mean()\n",
    "# get the mean back to the dataframe\n",
    "df_new['SUBJECT_MEAN_SCORE'] = df_new.groupby(['YEAR', 'Subject'])['MEAN_SCORE'].transform('mean')"
   ]
  },
  {
   "cell_type": "code",
   "execution_count": 27,
   "metadata": {},
   "outputs": [
    {
     "data": {
      "text/html": [
       "<div>\n",
       "<style scoped>\n",
       "    .dataframe tbody tr th:only-of-type {\n",
       "        vertical-align: middle;\n",
       "    }\n",
       "\n",
       "    .dataframe tbody tr th {\n",
       "        vertical-align: top;\n",
       "    }\n",
       "\n",
       "    .dataframe thead th {\n",
       "        text-align: right;\n",
       "    }\n",
       "</style>\n",
       "<table border=\"1\" class=\"dataframe\">\n",
       "  <thead>\n",
       "    <tr style=\"text-align: right;\">\n",
       "      <th>Subject</th>\n",
       "      <th>ELA</th>\n",
       "      <th>MATH</th>\n",
       "      <th>Math</th>\n",
       "      <th>SCIENCE</th>\n",
       "      <th>Science</th>\n",
       "    </tr>\n",
       "    <tr>\n",
       "      <th>YEAR</th>\n",
       "      <th></th>\n",
       "      <th></th>\n",
       "      <th></th>\n",
       "      <th></th>\n",
       "      <th></th>\n",
       "    </tr>\n",
       "  </thead>\n",
       "  <tbody>\n",
       "    <tr>\n",
       "      <th>2018</th>\n",
       "      <td>596.914849</td>\n",
       "      <td>597.631217</td>\n",
       "      <td>NaN</td>\n",
       "      <td>74.052019</td>\n",
       "      <td>NaN</td>\n",
       "    </tr>\n",
       "    <tr>\n",
       "      <th>2019</th>\n",
       "      <td>596.271201</td>\n",
       "      <td>598.344027</td>\n",
       "      <td>NaN</td>\n",
       "      <td>72.814152</td>\n",
       "      <td>NaN</td>\n",
       "    </tr>\n",
       "    <tr>\n",
       "      <th>2021</th>\n",
       "      <td>600.356671</td>\n",
       "      <td>NaN</td>\n",
       "      <td>593.562682</td>\n",
       "      <td>NaN</td>\n",
       "      <td>68.026627</td>\n",
       "    </tr>\n",
       "    <tr>\n",
       "      <th>2022</th>\n",
       "      <td>597.863963</td>\n",
       "      <td>NaN</td>\n",
       "      <td>594.078241</td>\n",
       "      <td>NaN</td>\n",
       "      <td>69.328033</td>\n",
       "    </tr>\n",
       "  </tbody>\n",
       "</table>\n",
       "</div>"
      ],
      "text/plain": [
       "Subject         ELA        MATH        Math    SCIENCE    Science\n",
       "YEAR                                                             \n",
       "2018     596.914849  597.631217         NaN  74.052019        NaN\n",
       "2019     596.271201  598.344027         NaN  72.814152        NaN\n",
       "2021     600.356671         NaN  593.562682        NaN  68.026627\n",
       "2022     597.863963         NaN  594.078241        NaN  69.328033"
      ]
     },
     "execution_count": 27,
     "metadata": {},
     "output_type": "execute_result"
    }
   ],
   "source": [
    "# get the subject mean score for each year for each subject\n",
    "grouped_subject = df_new.groupby(['YEAR', 'Subject'])['SUBJECT_MEAN_SCORE'].mean().unstack()\n",
    "grouped_subject"
   ]
  },
  {
   "cell_type": "code",
   "execution_count": 28,
   "metadata": {},
   "outputs": [
    {
     "data": {
      "text/html": [
       "<div>\n",
       "<style scoped>\n",
       "    .dataframe tbody tr th:only-of-type {\n",
       "        vertical-align: middle;\n",
       "    }\n",
       "\n",
       "    .dataframe tbody tr th {\n",
       "        vertical-align: top;\n",
       "    }\n",
       "\n",
       "    .dataframe thead th {\n",
       "        text-align: right;\n",
       "    }\n",
       "</style>\n",
       "<table border=\"1\" class=\"dataframe\">\n",
       "  <thead>\n",
       "    <tr style=\"text-align: right;\">\n",
       "      <th></th>\n",
       "      <th>YEAR</th>\n",
       "      <th>treatment</th>\n",
       "      <th>years_from_policy_change</th>\n",
       "      <th>Subject</th>\n",
       "      <th>MEAN_SCORE</th>\n",
       "      <th>Female_MEAN_SCORE</th>\n",
       "      <th>Male_MEAN_SCORE</th>\n",
       "      <th>MEAN_SCORE_white</th>\n",
       "      <th>MEAN_SCORE_non_white</th>\n",
       "      <th>MEAN_SCORE_english_language_learners</th>\n",
       "      <th>MEAN_SCORE_non-english_language_learners</th>\n",
       "      <th>SUBJECT_MEAN_SCORE</th>\n",
       "    </tr>\n",
       "  </thead>\n",
       "  <tbody>\n",
       "    <tr>\n",
       "      <th>8395583</th>\n",
       "      <td>2022</td>\n",
       "      <td>Treated</td>\n",
       "      <td>3</td>\n",
       "      <td>ELA</td>\n",
       "      <td>597.0</td>\n",
       "      <td>601.0</td>\n",
       "      <td>594.0</td>\n",
       "      <td>600.000000</td>\n",
       "      <td>597.800000</td>\n",
       "      <td>568.000000</td>\n",
       "      <td>598.000000</td>\n",
       "      <td>597.863963</td>\n",
       "    </tr>\n",
       "    <tr>\n",
       "      <th>1046888</th>\n",
       "      <td>2022</td>\n",
       "      <td>Treated</td>\n",
       "      <td>3</td>\n",
       "      <td>ELA</td>\n",
       "      <td>587.0</td>\n",
       "      <td>592.0</td>\n",
       "      <td>583.0</td>\n",
       "      <td>596.000000</td>\n",
       "      <td>589.400000</td>\n",
       "      <td>573.000000</td>\n",
       "      <td>590.000000</td>\n",
       "      <td>597.863963</td>\n",
       "    </tr>\n",
       "    <tr>\n",
       "      <th>7200692</th>\n",
       "      <td>2018</td>\n",
       "      <td>Control</td>\n",
       "      <td>-1</td>\n",
       "      <td>MATH</td>\n",
       "      <td>601.0</td>\n",
       "      <td>603.0</td>\n",
       "      <td>598.0</td>\n",
       "      <td>601.000000</td>\n",
       "      <td>597.500000</td>\n",
       "      <td>588.190063</td>\n",
       "      <td>597.413249</td>\n",
       "      <td>597.631217</td>\n",
       "    </tr>\n",
       "    <tr>\n",
       "      <th>7328850</th>\n",
       "      <td>2019</td>\n",
       "      <td>Control</td>\n",
       "      <td>0</td>\n",
       "      <td>ELA</td>\n",
       "      <td>594.0</td>\n",
       "      <td>597.0</td>\n",
       "      <td>591.0</td>\n",
       "      <td>594.000000</td>\n",
       "      <td>586.666667</td>\n",
       "      <td>580.756660</td>\n",
       "      <td>595.000000</td>\n",
       "      <td>596.271201</td>\n",
       "    </tr>\n",
       "    <tr>\n",
       "      <th>971327</th>\n",
       "      <td>2021</td>\n",
       "      <td>Treated</td>\n",
       "      <td>2</td>\n",
       "      <td>Math</td>\n",
       "      <td>578.0</td>\n",
       "      <td>578.0</td>\n",
       "      <td>579.0</td>\n",
       "      <td>466.796619</td>\n",
       "      <td>458.256313</td>\n",
       "      <td>447.049666</td>\n",
       "      <td>461.678874</td>\n",
       "      <td>593.562682</td>\n",
       "    </tr>\n",
       "  </tbody>\n",
       "</table>\n",
       "</div>"
      ],
      "text/plain": [
       "         YEAR treatment  years_from_policy_change Subject  MEAN_SCORE   \n",
       "8395583  2022   Treated                         3     ELA       597.0  \\\n",
       "1046888  2022   Treated                         3     ELA       587.0   \n",
       "7200692  2018   Control                        -1    MATH       601.0   \n",
       "7328850  2019   Control                         0     ELA       594.0   \n",
       "971327   2021   Treated                         2    Math       578.0   \n",
       "\n",
       "         Female_MEAN_SCORE  Male_MEAN_SCORE  MEAN_SCORE_white   \n",
       "8395583              601.0            594.0        600.000000  \\\n",
       "1046888              592.0            583.0        596.000000   \n",
       "7200692              603.0            598.0        601.000000   \n",
       "7328850              597.0            591.0        594.000000   \n",
       "971327               578.0            579.0        466.796619   \n",
       "\n",
       "         MEAN_SCORE_non_white  MEAN_SCORE_english_language_learners   \n",
       "8395583            597.800000                            568.000000  \\\n",
       "1046888            589.400000                            573.000000   \n",
       "7200692            597.500000                            588.190063   \n",
       "7328850            586.666667                            580.756660   \n",
       "971327             458.256313                            447.049666   \n",
       "\n",
       "         MEAN_SCORE_non-english_language_learners  SUBJECT_MEAN_SCORE  \n",
       "8395583                                598.000000          597.863963  \n",
       "1046888                                590.000000          597.863963  \n",
       "7200692                                597.413249          597.631217  \n",
       "7328850                                595.000000          596.271201  \n",
       "971327                                 461.678874          593.562682  "
      ]
     },
     "execution_count": 28,
     "metadata": {},
     "output_type": "execute_result"
    }
   ],
   "source": [
    "df_new.head()"
   ]
  },
  {
   "cell_type": "code",
   "execution_count": 29,
   "metadata": {},
   "outputs": [
    {
     "data": {
      "image/png": "[encoded data removed]",
      "text/plain": [
       "<Figure size 900x600 with 5 Axes>"
      ]
     },
     "metadata": {},
     "output_type": "display_data"
    }
   ],
   "source": [
    "g = sns.FacetGrid(df_new, col='Subject', col_wrap=3, height=3)\n",
    "\n",
    "# Add a trend line plot to the FacetGrid for each subject\n",
    "g.map(sns.regplot, 'YEAR', 'MEAN_SCORE')\n",
    "\n",
    "# Show the plot\n",
    "g.fig.tight_layout()\n",
    "g.fig.suptitle('Trend Lines for Subject Mean Scores')\n",
    "plt.show()"
   ]
  },
  {
   "cell_type": "code",
   "execution_count": 128,
   "metadata": {},
   "outputs": [
    {
     "data": {
      "image/png": "[encoded data removed]",
      "text/plain": [
       "<Figure size 640x480 with 1 Axes>"
      ]
     },
     "metadata": {},
     "output_type": "display_data"
    }
   ],
   "source": [
    "# plot the female and male mean scores before and after 2020\n",
    "grouped_female = df_new.groupby(['YEAR', 'Subject'])['Female_MEAN_SCORE'].mean().unstack()\n",
    "grouped_male = df_new.groupby(['YEAR', 'Subject'])['Male_MEAN_SCORE'].mean().unstack()            \n",
    "plt.plot(grouped_female.index, grouped_female, label='Control for female')\n",
    "plt.plot(grouped_female.index, grouped_male, label='Treated for female')\n",
    "# plt.plot(grouped_male.index, grouped_male['Control'], label='Control for male')\n",
    "# plt.plot(grouped_male.index, grouped_male['Treated'], label='Treated for male')\n",
    "plt.xticks(np.arange(2018, 2023, 1))\n",
    "plt.yticks(np.arange(0, 600, 50))\n",
    "# plot a vertical line at the year 2020\n",
    "plt.axvline(x=2020, color='black', linestyle='--')\n",
    "plt.xlabel('Year')\n",
    "plt.ylabel('Mean Score')\n",
    "plt.title('Treatment vs Control Mean Scores between Female and Male students')\n",
    "plt.legend()\n",
    "plt.show()"
   ]
  },
  {
   "cell_type": "code",
   "execution_count": 113,
   "metadata": {},
   "outputs": [
    {
     "ename": "KeyError",
     "evalue": "'Control'",
     "output_type": "error",
     "traceback": [
      "\u001b[0;31m---------------------------------------------------------------------------\u001b[0m",
      "\u001b[0;31mKeyError\u001b[0m                                  Traceback (most recent call last)",
      "File \u001b[0;32m~/.local/lib/python3.10/site-packages/pandas/core/indexes/base.py:3652\u001b[0m, in \u001b[0;36mIndex.get_loc\u001b[0;34m(self, key)\u001b[0m\n\u001b[1;32m   3651\u001b[0m \u001b[39mtry\u001b[39;00m:\n\u001b[0;32m-> 3652\u001b[0m     \u001b[39mreturn\u001b[39;00m \u001b[39mself\u001b[39;49m\u001b[39m.\u001b[39;49m_engine\u001b[39m.\u001b[39;49mget_loc(casted_key)\n\u001b[1;32m   3653\u001b[0m \u001b[39mexcept\u001b[39;00m \u001b[39mKeyError\u001b[39;00m \u001b[39mas\u001b[39;00m err:\n",
      "File \u001b[0;32m~/.local/lib/python3.10/site-packages/pandas/_libs/index.pyx:147\u001b[0m, in \u001b[0;36mpandas._libs.index.IndexEngine.get_loc\u001b[0;34m()\u001b[0m\n",
      "File \u001b[0;32m~/.local/lib/python3.10/site-packages/pandas/_libs/index.pyx:176\u001b[0m, in \u001b[0;36mpandas._libs.index.IndexEngine.get_loc\u001b[0;34m()\u001b[0m\n",
      "File \u001b[0;32mpandas/_libs/hashtable_class_helper.pxi:7080\u001b[0m, in \u001b[0;36mpandas._libs.hashtable.PyObjectHashTable.get_item\u001b[0;34m()\u001b[0m\n",
      "File \u001b[0;32mpandas/_libs/hashtable_class_helper.pxi:7088\u001b[0m, in \u001b[0;36mpandas._libs.hashtable.PyObjectHashTable.get_item\u001b[0;34m()\u001b[0m\n",
      "\u001b[0;31mKeyError\u001b[0m: 'Control'",
      "\nThe above exception was the direct cause of the following exception:\n",
      "\u001b[0;31mKeyError\u001b[0m                                  Traceback (most recent call last)",
      "Cell \u001b[0;32mIn[113], line 4\u001b[0m\n\u001b[1;32m      2\u001b[0m grouped_white \u001b[39m=\u001b[39m df_new\u001b[39m.\u001b[39mgroupby([\u001b[39m'\u001b[39m\u001b[39mYEAR\u001b[39m\u001b[39m'\u001b[39m, \u001b[39m'\u001b[39m\u001b[39mtreatment\u001b[39m\u001b[39m'\u001b[39m, \u001b[39m'\u001b[39m\u001b[39mSubject\u001b[39m\u001b[39m'\u001b[39m])[\u001b[39m'\u001b[39m\u001b[39mSUBJECT_MEAN_SCORE\u001b[39m\u001b[39m'\u001b[39m]\u001b[39m.\u001b[39mmean()\u001b[39m.\u001b[39munstack()\n\u001b[1;32m      3\u001b[0m grouped_non_white \u001b[39m=\u001b[39m df_new\u001b[39m.\u001b[39mgroupby([\u001b[39m'\u001b[39m\u001b[39mYEAR\u001b[39m\u001b[39m'\u001b[39m, \u001b[39m'\u001b[39m\u001b[39mtreatment\u001b[39m\u001b[39m'\u001b[39m])[\u001b[39m'\u001b[39m\u001b[39mSUBJECT_MEAN_SCORE\u001b[39m\u001b[39m'\u001b[39m]\u001b[39m.\u001b[39mmean()\u001b[39m.\u001b[39munstack()            \n\u001b[0;32m----> 4\u001b[0m plt\u001b[39m.\u001b[39mplot(grouped_white\u001b[39m.\u001b[39mindex, grouped_white[\u001b[39m'\u001b[39;49m\u001b[39mControl\u001b[39;49m\u001b[39m'\u001b[39;49m], label\u001b[39m=\u001b[39m\u001b[39m'\u001b[39m\u001b[39mControl for white\u001b[39m\u001b[39m'\u001b[39m)\n\u001b[1;32m      5\u001b[0m plt\u001b[39m.\u001b[39mplot(grouped_white\u001b[39m.\u001b[39mindex, grouped_white[\u001b[39m'\u001b[39m\u001b[39mTreated\u001b[39m\u001b[39m'\u001b[39m], label\u001b[39m=\u001b[39m\u001b[39m'\u001b[39m\u001b[39mTreated for white\u001b[39m\u001b[39m'\u001b[39m)\n\u001b[1;32m      6\u001b[0m plt\u001b[39m.\u001b[39mplot(grouped_non_white\u001b[39m.\u001b[39mindex, grouped_non_white[\u001b[39m'\u001b[39m\u001b[39mControl\u001b[39m\u001b[39m'\u001b[39m], label\u001b[39m=\u001b[39m\u001b[39m'\u001b[39m\u001b[39mControl for non-white\u001b[39m\u001b[39m'\u001b[39m)\n",
      "File \u001b[0;32m~/.local/lib/python3.10/site-packages/pandas/core/frame.py:3760\u001b[0m, in \u001b[0;36mDataFrame.__getitem__\u001b[0;34m(self, key)\u001b[0m\n\u001b[1;32m   3758\u001b[0m \u001b[39mif\u001b[39;00m \u001b[39mself\u001b[39m\u001b[39m.\u001b[39mcolumns\u001b[39m.\u001b[39mnlevels \u001b[39m>\u001b[39m \u001b[39m1\u001b[39m:\n\u001b[1;32m   3759\u001b[0m     \u001b[39mreturn\u001b[39;00m \u001b[39mself\u001b[39m\u001b[39m.\u001b[39m_getitem_multilevel(key)\n\u001b[0;32m-> 3760\u001b[0m indexer \u001b[39m=\u001b[39m \u001b[39mself\u001b[39;49m\u001b[39m.\u001b[39;49mcolumns\u001b[39m.\u001b[39;49mget_loc(key)\n\u001b[1;32m   3761\u001b[0m \u001b[39mif\u001b[39;00m is_integer(indexer):\n\u001b[1;32m   3762\u001b[0m     indexer \u001b[39m=\u001b[39m [indexer]\n",
      "File \u001b[0;32m~/.local/lib/python3.10/site-packages/pandas/core/indexes/base.py:3654\u001b[0m, in \u001b[0;36mIndex.get_loc\u001b[0;34m(self, key)\u001b[0m\n\u001b[1;32m   3652\u001b[0m     \u001b[39mreturn\u001b[39;00m \u001b[39mself\u001b[39m\u001b[39m.\u001b[39m_engine\u001b[39m.\u001b[39mget_loc(casted_key)\n\u001b[1;32m   3653\u001b[0m \u001b[39mexcept\u001b[39;00m \u001b[39mKeyError\u001b[39;00m \u001b[39mas\u001b[39;00m err:\n\u001b[0;32m-> 3654\u001b[0m     \u001b[39mraise\u001b[39;00m \u001b[39mKeyError\u001b[39;00m(key) \u001b[39mfrom\u001b[39;00m \u001b[39merr\u001b[39;00m\n\u001b[1;32m   3655\u001b[0m \u001b[39mexcept\u001b[39;00m \u001b[39mTypeError\u001b[39;00m:\n\u001b[1;32m   3656\u001b[0m     \u001b[39m# If we have a listlike key, _check_indexing_error will raise\u001b[39;00m\n\u001b[1;32m   3657\u001b[0m     \u001b[39m#  InvalidIndexError. Otherwise we fall through and re-raise\u001b[39;00m\n\u001b[1;32m   3658\u001b[0m     \u001b[39m#  the TypeError.\u001b[39;00m\n\u001b[1;32m   3659\u001b[0m     \u001b[39mself\u001b[39m\u001b[39m.\u001b[39m_check_indexing_error(key)\n",
      "\u001b[0;31mKeyError\u001b[0m: 'Control'"
     ]
    }
   ],
   "source": [
    "# plot the female and male mean scores before and after 2020\n",
    "grouped_white = df_new.groupby(['YEAR', 'treatment', 'Subject'])['SUBJECT_MEAN_SCORE'].mean().unstack()\n",
    "grouped_non_white = df_new.groupby(['YEAR', 'treatment'])['SUBJECT_MEAN_SCORE'].mean().unstack()            \n",
    "plt.plot(grouped_white.index, grouped_white['Control'], label='Control for white')\n",
    "plt.plot(grouped_white.index, grouped_white['Treated'], label='Treated for white')\n",
    "plt.plot(grouped_non_white.index, grouped_non_white['Control'], label='Control for non-white')\n",
    "plt.plot(grouped_non_white.index, grouped_non_white['Treated'], label='Treated for non-white')\n",
    "plt.xticks(np.arange(2018, 2023, 1))\n",
    "plt.yticks(np.arange(400, 660, 40))\n",
    "plt.axvline(x=2020, color='black', linestyle='--')\n",
    "plt.xlabel('Year')\n",
    "plt.ylabel('Mean Score')\n",
    "plt.title('Treatment vs Control Mean Scores between White and Non-White students')\n",
    "plt.legend()\n",
    "plt.show()"
   ]
  },
  {
   "cell_type": "code",
   "execution_count": null,
   "metadata": {},
   "outputs": [],
   "source": [
    "# plot the female and male mean scores before and after 2020\n",
    "grouped_ell = df_new.groupby(['YEAR', 'treatment'])['MEAN_SCORE_english_language_learners'].mean().unstack()\n",
    "grouped_non_ell = df_new.groupby(['YEAR', 'treatment'])['MEAN_SCORE_non-english_language_learners'].mean().unstack()            \n",
    "plt.plot(grouped_ell.index, grouped_ell['Control'], label='Control for ell')\n",
    "plt.plot(grouped_ell.index, grouped_ell['Treated'], label='Treated for ell')\n",
    "plt.plot(grouped_non_ell.index, grouped_non_ell['Control'], label='Control for non-ell')\n",
    "plt.plot(grouped_non_ell.index, grouped_non_ell['Treated'], label='Treated for non-ell')\n",
    "plt.xticks(np.arange(2018, 2023, 1))\n",
    "plt.yticks(np.arange(400, 680, 30))\n",
    "# plot a vertical line at the year 2020\n",
    "plt.axvline(x=2020, color='black', linestyle='--')\n",
    "plt.xlabel('Year')\n",
    "plt.ylabel('Mean Score')\n",
    "plt.title('Treatment vs Control Mean Scores between English-language-learners and Non-English-language-learners students')\n",
    "plt.legend()\n",
    "plt.show()"
   ]
  },
  {
   "cell_type": "code",
   "execution_count": null,
   "metadata": {},
   "outputs": [],
   "source": [
    "# do a stratified sampling on YEAR\n",
    "df_new = df.groupby('YEAR', group_keys=False).apply(lambda x: x.sample(min(len(x), 500)))"
   ]
  },
  {
   "cell_type": "code",
   "execution_count": null,
   "metadata": {},
   "outputs": [],
   "source": [
    "df_new['YEAR'].unique()"
   ]
  },
  {
   "cell_type": "code",
   "execution_count": null,
   "metadata": {},
   "outputs": [],
   "source": [
    "df_new['treatment'].unique()"
   ]
  },
  {
   "cell_type": "code",
   "execution_count": null,
   "metadata": {},
   "outputs": [],
   "source": [
    "df_new[\"years_from_policy_change\"].unique()"
   ]
  },
  {
   "cell_type": "code",
   "execution_count": null,
   "metadata": {},
   "outputs": [],
   "source": [
    "df_new.groupby(['YEAR', 'treatment'])['MEAN_SCORE'].mean()"
   ]
  },
  {
   "cell_type": "code",
   "execution_count": null,
   "metadata": {},
   "outputs": [],
   "source": [
    "df_new.groupby(['YEAR', 'treatment'])['MEAN_SCORE'].mean().unstack().plot()"
   ]
  },
  {
   "cell_type": "code",
   "execution_count": null,
   "metadata": {},
   "outputs": [],
   "source": [
    "grouped = df_new.groupby(['YEAR', 'treatment'])['MEAN_SCORE'].mean().unstack()\n",
    "\n",
    "# Plot the mean scores for the control and treated groups\n",
    "plt.plot(grouped.index, grouped['Control'], label='Control')\n",
    "plt.plot(grouped.index, grouped['Treated'], label='Treated')\n",
    "plt.xlabel('Year')\n",
    "plt.ylabel('Mean Score')\n",
    "plt.title('Treatment vs Control Mean Scores')\n",
    "plt.legend()\n",
    "plt.show()"
   ]
  },
  {
   "cell_type": "code",
   "execution_count": null,
   "metadata": {},
   "outputs": [],
   "source": [
    "# plot the graph\n",
    "g = (\n",
    "    ggplot(\n",
    "        \n",
    "        df_new,\n",
    "        aes(x=\"years_from_policy_change\", y=\"MEAN_SCORE\", color=\"treatment\"),\n",
    "    )\n",
    "    + geom_smooth(\n",
    "        method=\"lm\", data=df_new[(df_new[\"years_from_policy_change\"] < 0) & (df_new[\"treatment\"] == \"Treated\")]\n",
    "    )\n",
    "    + geom_smooth(\n",
    "        method=\"lm\", data=df_new[(df_new[\"years_from_policy_change\"] < 0) & (df_new[\"treatment\"] == \"Control\")])\n",
    "\n",
    "    + geom_smooth(\n",
    "        method=\"lm\", data=df_new[(df_new[\"years_from_policy_change\"] >= 0) & (df_new[\"treatment\"] == \"Treated\")])  \n",
    "    + geom_smooth(\n",
    "        method=\"lm\", data=df_new[(df_new[\"years_from_policy_change\"] >= 0) & (df_new[\"treatment\"] == \"Control\")])\n",
    "    + geom_vline(xintercept=0, linetype=\"dashed\")\n",
    ")\n",
    "g"
   ]
  },
  {
   "cell_type": "code",
   "execution_count": null,
   "metadata": {},
   "outputs": [],
   "source": [
    "g = (\n",
    "    ggplot(\n",
    "        df_new,\n",
    "        aes(x=\"years_from_policy_change\", y=\"MEAN_SCORE\", color=\"treatment\"),\n",
    "    )\n",
    "    + geom_smooth(\n",
    "        method=\"lm\", data=df_new[(df_new[\"years_from_policy_change\"] < 0) & (df_new[\"treatment\"] == \"Treated\")]\n",
    "    )\n",
    "    + geom_smooth(\n",
    "        method=\"lm\", data=df_new[(df_new[\"years_from_policy_change\"] < 0) & (df_new[\"treatment\"] == \"Control\")]\n",
    "    )\n",
    "    + geom_smooth(\n",
    "        method=\"lm\", data=df_new[(df_new[\"years_from_policy_change\"] >= 0) & (df_new[\"treatment\"] == \"Treated\")]\n",
    "    )\n",
    "    + geom_smooth(\n",
    "        method=\"lm\", data=df_new[(df_new[\"years_from_policy_change\"] >= 0) & (df_new[\"treatment\"] == \"Control\")]\n",
    "    )\n",
    "    + geom_vline(xintercept=0, linetype=\"dashed\")\n",
    "    + geom_text(x=1, y=7, label=\"Post-Policy Change\", color=\"black\")\n",
    "    + labs(\n",
    "        title=\"Diff-in-Diff Model Graph for Student Mean Score before and after COVID-19\"\n",
    "    )\n",
    "    + xlab(\"Years from Policy Change\")\n",
    "    + ylab(\"Student Mean Score\")\n",
    "    + theme(legend_position=\"right\")\n",
    ")\n",
    "g\n",
    "# takes about 1min20s for 10k samples"
   ]
  },
  {
   "cell_type": "code",
   "execution_count": null,
   "metadata": {},
   "outputs": [],
   "source": [
    "print(g)"
   ]
  },
  {
   "cell_type": "code",
   "execution_count": null,
   "metadata": {},
   "outputs": [],
   "source": [
    "# g = (\n",
    "#     ggplot(\n",
    "#         df,\n",
    "#         aes(x=\"years_from_policy_change\", y=\"MEAN_SCORE\", color=\"treatment\"),\n",
    "#     )\n",
    "#     + geom_smooth(\n",
    "#         method=\"lm\", data=df[(df[\"years_from_policy_change\"] < 0) & (df[\"treatment\"] == \"Treated\")]\n",
    "#     )\n",
    "#     + geom_smooth(\n",
    "#         method=\"lm\", data=df[(df[\"years_from_policy_change\"] < 0) & (df[\"treatment\"] == \"Control\")]\n",
    "#     )\n",
    "#     + geom_smooth(\n",
    "#         method=\"lm\", data=df[(df[\"years_from_policy_change\"] >= 0) & (df[\"treatment\"] == \"Treated\")]\n",
    "#     )\n",
    "#     + geom_smooth(\n",
    "#         method=\"lm\", data=df[(df[\"years_from_policy_change\"] >= 0) & (df[\"treatment\"] == \"Control\")]\n",
    "#     )\n",
    "#     + geom_vline(xintercept=0, linetype=\"dashed\")\n",
    "#     + geom_text(x=1, y=7, label=\"Post-Policy Change\", color=\"black\")\n",
    "#     + labs(\n",
    "#         title=\"Diff-in-Diff Model Graph for Student Mean Score before and after COVID-19\"\n",
    "#     )\n",
    "#     + xlab(\"Years from Policy Change\")\n",
    "#     + ylab(\"Student Mean Score\")\n",
    "#     + theme(legend_position=\"right\")\n",
    "# )\n",
    "# g"
   ]
  },
  {
   "cell_type": "code",
   "execution_count": null,
   "metadata": {},
   "outputs": [],
   "source": [
    "# make a difference-in-difference model plot\n",
    "def diff_in_diff_plot(df, pred, group):\n",
    "    \"\"\"\n",
    "    df: dataframe\n",
    "    pred: list of column names\n",
    "    group: column name\n",
    "    \"\"\"\n",
    "    for i in pred:\n",
    "        print(i)\n",
    "        model = smf.ols(f\"{i} ~ YEAR + {group} + YEAR:{group}\", df).fit().summary()\n",
    "        print(model)\n",
    "        sns.lmplot(x='YEAR', y=i, hue=group, data=df)\n",
    "        plt.show()"
   ]
  },
  {
   "attachments": {},
   "cell_type": "markdown",
   "metadata": {},
   "source": [
    "# PanelOLS\n"
   ]
  },
  {
   "cell_type": "code",
   "execution_count": null,
   "metadata": {},
   "outputs": [],
   "source": [
    "df.columns"
   ]
  },
  {
   "cell_type": "code",
   "execution_count": null,
   "metadata": {},
   "outputs": [],
   "source": [
    "# expand the dataframe to have each row for female and male\n",
    "df_new = df.copy()"
   ]
  },
  {
   "attachments": {},
   "cell_type": "markdown",
   "metadata": {},
   "source": [
    "## From Kashaf"
   ]
  },
  {
   "cell_type": "code",
   "execution_count": null,
   "metadata": {},
   "outputs": [],
   "source": [
    "columns_f = ['ENTITY_CD', 'YEAR', 'ASSESSMENT_NAME', 'ENTITY_NAME', 'SUBGROUP_NAME',\n",
    "       'MEAN_SCORE', 'ES', 'MS', 'EM', 'ST_NOTSURE', \n",
    "       'Female_MEAN_SCORE', 'MEAN_SCORE_white', 'MEAN_SCORE_non_white',\n",
    "       'Subject', 'MEAN_SCORE_english_language_learners',\n",
    "       'MEAN_SCORE_non-english_language_learners']\n",
    "\n",
    "df_f = df_new[columns_f]"
   ]
  },
  {
   "cell_type": "code",
   "execution_count": null,
   "metadata": {},
   "outputs": [],
   "source": [
    "# add new column Gender which is 1\n",
    "\n",
    "df_f[\"Gender\"] = 1\n",
    "\n",
    "# rename Female_MEAN_SCORE as Gender_MEAN_SCORE\n",
    "\n",
    "df_f = df_f.rename(columns={'Female_MEAN_SCORE': 'Gender_MEAN_SCORE'})\n",
    "\n",
    "\n",
    "columns_m = ['ENTITY_CD', 'YEAR', 'ASSESSMENT_NAME', 'ENTITY_NAME', 'SUBGROUP_NAME',\n",
    "       'MEAN_SCORE', 'ES', 'MS', 'EM', 'ST_NOTSURE', \n",
    "       'Male_MEAN_SCORE', 'MEAN_SCORE_white', 'MEAN_SCORE_non_white',\n",
    "       'Subject', 'MEAN_SCORE_english_language_learners',\n",
    "       'MEAN_SCORE_non-english_language_learners']\n",
    "\n",
    "df_m = df_new[columns_m]\n",
    "\n",
    "# add new column Gender which is 1\n",
    "\n",
    "df_m[\"Gender\"] = 0\n",
    "\n",
    "# rename Female_MEAN_SCORE as Gender_MEAN_SCORE\n",
    "\n",
    "df_m = df_m.rename(columns={'Male_MEAN_SCORE': 'Gender_MEAN_SCORE'})\n",
    "\n",
    "final_df = pd.concat([df_f, df_m])"
   ]
  },
  {
   "cell_type": "code",
   "execution_count": null,
   "metadata": {},
   "outputs": [],
   "source": [
    "final_df.shape"
   ]
  },
  {
   "cell_type": "code",
   "execution_count": null,
   "metadata": {},
   "outputs": [],
   "source": [
    "final_df.columns"
   ]
  },
  {
   "attachments": {},
   "cell_type": "markdown",
   "metadata": {},
   "source": [
    "## Get Average"
   ]
  },
  {
   "cell_type": "code",
   "execution_count": null,
   "metadata": {},
   "outputs": [],
   "source": [
    "final_df['ASSESSMENT_NAME'].unique()"
   ]
  },
  {
   "cell_type": "code",
   "execution_count": null,
   "metadata": {},
   "outputs": [],
   "source": [
    "# final_df.groupby(['ENTITY_CD', 'YEAR']).apply(np.mean)"
   ]
  },
  {
   "cell_type": "code",
   "execution_count": null,
   "metadata": {},
   "outputs": [],
   "source": [
    "# for each ENTITY_CD, YEAR, and Subject, create a new row on the mean \n",
    "\n",
    "final_df.groupby(['ENTITY_CD', 'YEAR', 'Subject']).apply(np.mean)"
   ]
  }
 ],
 "metadata": {
  "kernelspec": {
   "display_name": "Python 3",
   "language": "python",
   "name": "python3"
  },
  "language_info": {
   "codemirror_mode": {
    "name": "ipython",
    "version": 3
   },
   "file_extension": ".py",
   "mimetype": "text/x-python",
   "name": "python",
   "nbconvert_exporter": "python",
   "pygments_lexer": "ipython3",
   "version": "3.10.4"
  },
  "orig_nbformat": 4
 },
 "nbformat": 4,
 "nbformat_minor": 2
}
