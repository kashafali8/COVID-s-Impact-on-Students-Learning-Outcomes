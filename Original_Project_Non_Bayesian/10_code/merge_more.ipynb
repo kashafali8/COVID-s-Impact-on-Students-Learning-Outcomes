{
 "cells": [
  {
   "cell_type": "code",
   "execution_count": 11,
   "metadata": {},
   "outputs": [],
   "source": [
    "import pandas as pd\n",
    "import numpy as np\n",
    "import matplotlib.pyplot as plt\n"
   ]
  },
  {
   "cell_type": "code",
   "execution_count": 34,
   "metadata": {},
   "outputs": [],
   "source": [
    "# main_path = \"/Users/belladu/Desktop/IDS701 Unifying Data Science/unifying-data-science-2023-project-grupo9-main 2/00_source_data/final_allstudents_df.csv\"\n",
    "race_path = \"/Users/belladu/Desktop/IDS701 Unifying Data Science/unifying-data-science-2023-project-grupo9-main 2/00_source_data/full_data_BinaryRace_Fixed.csv\"\n",
    "gender_path = \"/Users/belladu/Desktop/IDS701 Unifying Data Science/unifying-data-science-2023-project-grupo9-main 2/00_source_data/Gender.csv\"\n",
    "ell_path = \"/workspaces/IDS701_Final_Project_Du/00_Source_Date/full_data_ELL_FIXED2.csv\"\n"
   ]
  },
  {
   "cell_type": "code",
   "execution_count": null,
   "metadata": {},
   "outputs": [],
   "source": [
    "all_student = pd.read_csv(main_path)\n",
    "race = pd.read_csv(race_path)\n",
    "gender = pd.read_csv(gender_path)\n",
    "ell = pd.read_csv(ell_path)\n"
   ]
  },
  {
   "cell_type": "code",
   "execution_count": null,
   "metadata": {},
   "outputs": [],
   "source": [
    "df_merged_all_gender = pd.merge(all_student, gender, on=[\n",
    "                                'ENTITY_CD', 'YEAR', 'ASSESSMENT_NAME'], how='inner')\n"
   ]
  },
  {
   "cell_type": "code",
   "execution_count": null,
   "metadata": {},
   "outputs": [],
   "source": [
    "df_merged_all_gender.isnull().sum()\n",
    "df_merged_all_gender.columns\n"
   ]
  },
  {
   "cell_type": "code",
   "execution_count": null,
   "metadata": {},
   "outputs": [],
   "source": [
    "df_merged_all_gender['Male_MEAN_SCORE'].replace(0, np.nan, inplace=True)\n",
    "df_merged_all_gender['Male_MEAN_SCORE'].replace(0, np.nan, inplace=True)\n"
   ]
  },
  {
   "cell_type": "code",
   "execution_count": null,
   "metadata": {},
   "outputs": [],
   "source": [
    "df_merged_all_gender['Male_MEAN_SCORE'].isnull().sum()\n"
   ]
  },
  {
   "cell_type": "code",
   "execution_count": null,
   "metadata": {},
   "outputs": [],
   "source": [
    "df_merged_all_gender['Female_MEAN_SCORE'].isnull().sum()\n"
   ]
  },
  {
   "cell_type": "markdown",
   "metadata": {},
   "source": [
    "### Impute Male Score"
   ]
  },
  {
   "cell_type": "code",
   "execution_count": null,
   "metadata": {},
   "outputs": [],
   "source": [
    "df_merged_all_gender['Male_MEAN_SCORE'].fillna(df_merged_all_gender.groupby([\"YEAR\", \"ENTITY_CD\", \"Subject\"])[\n",
    "    \"Male_MEAN_SCORE\"].transform(\"mean\"), inplace=True)\n",
    "df_merged_all_gender['Male_MEAN_SCORE'].fillna(df_merged_all_gender.groupby([\"YEAR\", \"ENTITY_CD\"])[\n",
    "    \"Male_MEAN_SCORE\"].transform(\"mean\"), inplace=True)\n",
    "df_merged_all_gender['Male_MEAN_SCORE'].fillna(df_merged_all_gender.groupby([\"ENTITY_CD\"])[\n",
    "    \"Male_MEAN_SCORE\"].transform(\"mean\"), inplace=True)\n",
    "df_merged_all_gender['Male_MEAN_SCORE'].fillna(df_merged_all_gender.groupby([\"YEAR\"])[\n",
    "    \"Male_MEAN_SCORE\"].transform(\"mean\"), inplace=True)\n"
   ]
  },
  {
   "cell_type": "markdown",
   "metadata": {},
   "source": [
    "### Impute Female Score"
   ]
  },
  {
   "cell_type": "code",
   "execution_count": null,
   "metadata": {},
   "outputs": [],
   "source": [
    "df_merged_all_gender['Female_MEAN_SCORE'].fillna(df_merged_all_gender.groupby([\"YEAR\", \"ENTITY_CD\", \"Subject\"])[\n",
    "    \"Female_MEAN_SCORE\"].transform(\"mean\"), inplace=True)\n",
    "df_merged_all_gender['Female_MEAN_SCORE'].fillna(df_merged_all_gender.groupby([\"YEAR\", \"ENTITY_CD\"])[\n",
    "    \"Female_MEAN_SCORE\"].transform(\"mean\"), inplace=True)\n",
    "df_merged_all_gender['Female_MEAN_SCORE'].fillna(df_merged_all_gender.groupby([\"ENTITY_CD\"])[\n",
    "    \"Female_MEAN_SCORE\"].transform(\"mean\"), inplace=True)\n",
    "df_merged_all_gender['Female_MEAN_SCORE'].fillna(df_merged_all_gender.groupby([\"YEAR\"])[\n",
    "    \"Female_MEAN_SCORE\"].transform(\"mean\"), inplace=True)\n"
   ]
  },
  {
   "cell_type": "code",
   "execution_count": null,
   "metadata": {},
   "outputs": [],
   "source": [
    "assert df_merged_all_gender['Male_MEAN_SCORE'].isnull().sum() == 0\n",
    "assert df_merged_all_gender['Female_MEAN_SCORE'].isnull().sum() == 0\n"
   ]
  },
  {
   "cell_type": "code",
   "execution_count": null,
   "metadata": {},
   "outputs": [],
   "source": [
    "# save it to a csv file\n",
    "df_merged_all_gender.to_csv(\n",
    "    \"/Users/belladu/Desktop/IDS701 Unifying Data Science/unifying-data-science-2023-project-grupo9-main 2/00_source_data/all_gender_combine.csv\")\n"
   ]
  },
  {
   "cell_type": "code",
   "execution_count": null,
   "metadata": {},
   "outputs": [],
   "source": [
    "df_merged_all_gender_race = pd.read_csv(\"/workspaces/IDS701_Final_Project_Du/00_Source_Date/all_gender_race.csv\")\n",
    "df_merged_all_gender_race.columns"
   ]
  },
  {
   "cell_type": "markdown",
   "metadata": {},
   "source": [
    "## Combine Race now"
   ]
  },
  {
   "cell_type": "code",
   "execution_count": null,
   "metadata": {},
   "outputs": [],
   "source": [
    "race.columns"
   ]
  },
  {
   "cell_type": "code",
   "execution_count": null,
   "metadata": {},
   "outputs": [],
   "source": [
    "df_merged_all_gender_race = pd.read_csv(\"/workspaces/IDS701_Final_Project_Du/00_Source_Date/all_gender_race.csv\")\n",
    "df_merged_all_gender_race.columns"
   ]
  },
  {
   "cell_type": "code",
   "execution_count": null,
   "metadata": {},
   "outputs": [],
   "source": [
    "race['MEAN_SCORE_non_white'].replace(0,np.nan, inplace=True)\n",
    "\n",
    "race['MEAN_SCORE_white'].replace(0,np.nan, inplace=True)"
   ]
  },
  {
   "cell_type": "code",
   "execution_count": null,
   "metadata": {},
   "outputs": [],
   "source": [
    "race['MEAN_SCORE_non_white'].isnull().sum()"
   ]
  },
  {
   "cell_type": "code",
   "execution_count": null,
   "metadata": {},
   "outputs": [],
   "source": [
    "race['MEAN_SCORE_white'].isnull().sum()"
   ]
  },
  {
   "cell_type": "code",
   "execution_count": null,
   "metadata": {},
   "outputs": [],
   "source": [
    "df_merged_gender_race = pd.merge(df_merged_all_gender, race, on=[\n",
    "                     'ENTITY_CD', 'YEAR', 'ASSESSMENT_NAME'], how='inner')\n"
   ]
  },
  {
   "cell_type": "code",
   "execution_count": null,
   "metadata": {},
   "outputs": [],
   "source": [
    "df_merged_gender_race.columns\n"
   ]
  },
  {
   "cell_type": "code",
   "execution_count": null,
   "metadata": {},
   "outputs": [],
   "source": [
    "df_merged_gender_race['MEAN_SCORE_white'].replace(0, np.nan, inplace=True)\n",
    "\n",
    "df_merged_gender_race['MEAN_SCORE_non_white'].replace(0, np.nan, inplace=True)"
   ]
  },
  {
   "cell_type": "code",
   "execution_count": null,
   "metadata": {},
   "outputs": [],
   "source": [
    "df_merged_gender_race['MEAN_SCORE_white'].isnull().sum()"
   ]
  },
  {
   "cell_type": "code",
   "execution_count": null,
   "metadata": {},
   "outputs": [],
   "source": [
    "df_merged_gender_race['MEAN_SCORE_non_white'].isnull().sum()"
   ]
  },
  {
   "cell_type": "code",
   "execution_count": null,
   "metadata": {},
   "outputs": [],
   "source": [
    "df_merged_gender_race['MEAN_SCORE_white'].fillna(df_merged_gender_race.groupby([\"YEAR\", \"ENTITY_CD\", \"Subject_x\"])[\n",
    "    \"MEAN_SCORE_white\"].transform(\"mean\"), inplace=True)\n",
    "df_merged_gender_race['MEAN_SCORE_white'].fillna(df_merged_gender_race.groupby([\"YEAR\", \"ENTITY_CD\"])[\n",
    "    \"MEAN_SCORE_white\"].transform(\"mean\"), inplace=True)\n",
    "df_merged_gender_race['MEAN_SCORE_white'].fillna(df_merged_gender_race.groupby([\"ENTITY_CD\"])[\n",
    "    \"MEAN_SCORE_white\"].transform(\"mean\"), inplace=True)\n",
    "df_merged_gender_race['MEAN_SCORE_white'].fillna(df_merged_gender_race.groupby([\"YEAR\"])[\n",
    "    \"MEAN_SCORE_white\"].transform(\"mean\"), inplace=True)\n"
   ]
  },
  {
   "cell_type": "code",
   "execution_count": null,
   "metadata": {},
   "outputs": [],
   "source": [
    "df_merged_gender_race['MEAN_SCORE_non_white'].fillna(df_merged_gender_race.groupby([\"YEAR\", \"ENTITY_CD\", \"Subject_x\"])[\n",
    "    \"MEAN_SCORE_non_white\"].transform(\"mean\"), inplace=True)\n",
    "df_merged_gender_race['MEAN_SCORE_non_white'].fillna(df_merged_gender_race.groupby([\"YEAR\", \"ENTITY_CD\"])[\n",
    "    \"MEAN_SCORE_non_white\"].transform(\"mean\"), inplace=True)\n",
    "df_merged_gender_race['MEAN_SCORE_non_white'].fillna(df_merged_gender_race.groupby([\"ENTITY_CD\"])[\n",
    "    \"MEAN_SCORE_non_white\"].transform(\"mean\"), inplace=True)\n",
    "df_merged_gender_race['MEAN_SCORE_non_white'].fillna(df_merged_gender_race.groupby([\"YEAR\"])[\n",
    "    \"MEAN_SCORE_non_white\"].transform(\"mean\"), inplace=True)\n"
   ]
  },
  {
   "cell_type": "code",
   "execution_count": null,
   "metadata": {},
   "outputs": [],
   "source": [
    "df_merged_gender_race.to_csv(\n",
    "    \"/Users/belladu/Desktop/IDS701 Unifying Data Science/unifying-data-science-2023-project-grupo9-main 2/00_source_data/all_gender_race.csv\")"
   ]
  },
  {
   "attachments": {},
   "cell_type": "markdown",
   "metadata": {},
   "source": [
    "## Start here"
   ]
  },
  {
   "cell_type": "code",
   "execution_count": 35,
   "metadata": {},
   "outputs": [
    {
     "name": "stderr",
     "output_type": "stream",
     "text": [
      "/tmp/ipykernel_1057/1436012859.py:1: DtypeWarning: Columns (7,27,33) have mixed types. Specify dtype option on import or set low_memory=False.\n",
      "  df_merged_all_gender_race = pd.read_csv(\"/workspaces/IDS701_Final_Project_Du/00_Source_Date/all_gender_race.csv\")\n"
     ]
    },
    {
     "data": {
      "text/plain": [
       "Index(['Unnamed: 0', 'ENTITY_CD', 'YEAR', 'Subject_x', 'ASSESSMENT_NAME',\n",
       "       'ENTITY_NAME', 'SUBGROUP_NAME', 'NOT_TESTED', 'NUM_TESTED', 'NUM_PROF',\n",
       "       'PER_PROF', 'TOTAL_SCALE_SCORES', 'MEAN_SCORE', 'TOTAL_COUNT',\n",
       "       'PCT_NOT_TESTED', 'PCT_TESTED', 'ES_ELA', 'ES_MATH', 'ES_SCI', 'ES',\n",
       "       'MS_ELA', 'MS_MATH', 'MS_SCI', 'MS', 'EM', 'ST_NOTSURE',\n",
       "       'Female_MEAN_SCORE', 'Female_NOT_TESTED', 'Female_NUM_PROF',\n",
       "       'Female_NUM_TESTED', 'Female_PER_PROF', 'Female_TOTAL_SCALE_SCORES',\n",
       "       'Male_MEAN_SCORE', 'Male_NOT_TESTED', 'Male_NUM_PROF',\n",
       "       'Male_NUM_TESTED', 'Male_PER_PROF', 'Male_TOTAL_SCALE_SCORES',\n",
       "       'Female_PCT_NOT_TESTED', 'Female_PCT_TESTED', 'Female_TOTAL_COUNT',\n",
       "       'Male_PCT_NOT_TESTED', 'Male_PCT_TESTED', 'Male_TOTAL_COUNT',\n",
       "       'Subject_y', 'NUM_TESTED_white', 'NUM_PROF_white',\n",
       "       'TOTAL_SCALE_SCORES_white', 'MEAN_SCORE_white', 'NUM_TESTED_non_white',\n",
       "       'NUM_PROF_non_white', 'TOTAL_SCALE_SCORES_non_white',\n",
       "       'MEAN_SCORE_non_white'],\n",
       "      dtype='object')"
      ]
     },
     "execution_count": 35,
     "metadata": {},
     "output_type": "execute_result"
    }
   ],
   "source": [
    "df_merged_all_gender_race = pd.read_csv(\"/workspaces/IDS701_Final_Project_Du/00_Source_Date/all_gender_race.csv\")\n",
    "df_merged_all_gender_race.columns"
   ]
  },
  {
   "cell_type": "code",
   "execution_count": 36,
   "metadata": {},
   "outputs": [],
   "source": [
    "ell = pd.read_csv(ell_path)"
   ]
  },
  {
   "cell_type": "code",
   "execution_count": 37,
   "metadata": {},
   "outputs": [],
   "source": [
    "df_merged_gender_race_ell = pd.merge(df_merged_all_gender_race, ell, on=[\n",
    "                     'ENTITY_CD', 'YEAR', 'ASSESSMENT_NAME'], how='inner')"
   ]
  },
  {
   "cell_type": "code",
   "execution_count": 38,
   "metadata": {},
   "outputs": [
    {
     "data": {
      "text/plain": [
       "array([False, False, False, False, False, False, False, False, False,\n",
       "       False, False, False,  True, False, False, False, False, False,\n",
       "       False, False, False, False, False, False, False, False,  True,\n",
       "       False, False, False, False, False,  True, False, False, False,\n",
       "       False, False, False, False, False, False, False, False, False,\n",
       "       False, False, False,  True, False, False, False,  True, False,\n",
       "       False, False, False,  True, False, False, False,  True])"
      ]
     },
     "execution_count": 38,
     "metadata": {},
     "output_type": "execute_result"
    }
   ],
   "source": [
    "df_merged_gender_race_ell.columns.str.contains('MEAN_SCORE')"
   ]
  },
  {
   "cell_type": "code",
   "execution_count": 39,
   "metadata": {},
   "outputs": [
    {
     "data": {
      "text/plain": [
       "Index(['MEAN_SCORE', 'Female_MEAN_SCORE', 'Male_MEAN_SCORE',\n",
       "       'MEAN_SCORE_white', 'MEAN_SCORE_non_white',\n",
       "       'MEAN_SCORE_english_language_learners',\n",
       "       'MEAN_SCORE_non-english_language_learners'],\n",
       "      dtype='object')"
      ]
     },
     "execution_count": 39,
     "metadata": {},
     "output_type": "execute_result"
    }
   ],
   "source": [
    "df_merged_gender_race_ell.columns[df_merged_gender_race_ell.columns.str.contains('MEAN_SCORE')]"
   ]
  },
  {
   "cell_type": "code",
   "execution_count": 40,
   "metadata": {},
   "outputs": [
    {
     "data": {
      "text/plain": [
       "(9488161, 62)"
      ]
     },
     "execution_count": 40,
     "metadata": {},
     "output_type": "execute_result"
    }
   ],
   "source": [
    "df_merged_gender_race_ell.shape"
   ]
  },
  {
   "cell_type": "code",
   "execution_count": 41,
   "metadata": {},
   "outputs": [],
   "source": [
    "# rename the columns\n",
    "ddf_merged_gender_race_ell_new = df_merged_gender_race_ell.rename(columns={\"MEAN_SCORE_english_language_learner\":\"MEAN_SCORE_english_language_learners\", \"MEAN_SCORE_non-english_language_learner\":\"MEAN_SCORE_non-english_language_learners\"})"
   ]
  },
  {
   "cell_type": "code",
   "execution_count": 42,
   "metadata": {},
   "outputs": [
    {
     "data": {
      "text/plain": [
       "(9488161, 62)"
      ]
     },
     "execution_count": 42,
     "metadata": {},
     "output_type": "execute_result"
    }
   ],
   "source": [
    "ddf_merged_gender_race_ell_new.shape"
   ]
  },
  {
   "cell_type": "code",
   "execution_count": 43,
   "metadata": {},
   "outputs": [
    {
     "data": {
      "text/plain": [
       "Index(['MEAN_SCORE', 'Female_MEAN_SCORE', 'Male_MEAN_SCORE',\n",
       "       'MEAN_SCORE_white', 'MEAN_SCORE_non_white',\n",
       "       'MEAN_SCORE_english_language_learners',\n",
       "       'MEAN_SCORE_non-english_language_learners'],\n",
       "      dtype='object')"
      ]
     },
     "execution_count": 43,
     "metadata": {},
     "output_type": "execute_result"
    }
   ],
   "source": [
    "ddf_merged_gender_race_ell_new.columns[ddf_merged_gender_race_ell_new.columns.str.contains('MEAN_SCORE')]"
   ]
  },
  {
   "cell_type": "code",
   "execution_count": 44,
   "metadata": {},
   "outputs": [],
   "source": [
    "df_merged_gender_race_ell['MEAN_SCORE_english_language_learners'].replace(0, np.nan, inplace=True)\n",
    "df_merged_gender_race_ell['MEAN_SCORE_non-english_language_learners'].replace(0, np.nan, inplace=True)"
   ]
  },
  {
   "cell_type": "code",
   "execution_count": 45,
   "metadata": {},
   "outputs": [],
   "source": [
    "df_merged_gender_race_ell['MEAN_SCORE_english_language_learners'].fillna(df_merged_gender_race_ell.groupby([\"YEAR\", \"ENTITY_CD\", \"Subject_x\"])[\n",
    "    \"MEAN_SCORE_english_language_learners\"].transform(\"mean\"), inplace=True)\n",
    "df_merged_gender_race_ell['MEAN_SCORE_english_language_learners'].fillna(df_merged_gender_race_ell.groupby([\"YEAR\", \"ENTITY_CD\"])[\n",
    "    \"MEAN_SCORE_english_language_learners\"].transform(\"mean\"), inplace=True)\n",
    "df_merged_gender_race_ell['MEAN_SCORE_english_language_learners'].fillna(df_merged_gender_race_ell.groupby([\"ENTITY_CD\"])[\n",
    "    \"MEAN_SCORE_english_language_learners\"].transform(\"mean\"), inplace=True)\n",
    "df_merged_gender_race_ell['MEAN_SCORE_english_language_learners'].fillna(df_merged_gender_race_ell.groupby([\"YEAR\"])[\n",
    "    \"MEAN_SCORE_english_language_learners\"].transform(\"mean\"), inplace=True)\n"
   ]
  },
  {
   "cell_type": "code",
   "execution_count": 46,
   "metadata": {},
   "outputs": [],
   "source": [
    "df_merged_gender_race_ell['MEAN_SCORE_non-english_language_learners'].fillna(df_merged_gender_race_ell.groupby([\"YEAR\", \"ENTITY_CD\", \"Subject_x\"])[\n",
    "    \"MEAN_SCORE_non-english_language_learners\"].transform(\"mean\"), inplace=True)\n",
    "df_merged_gender_race_ell['MEAN_SCORE_non-english_language_learners'].fillna(df_merged_gender_race_ell.groupby([\"YEAR\", \"ENTITY_CD\"])[\n",
    "    \"MEAN_SCORE_non-english_language_learners\"].transform(\"mean\"), inplace=True)\n",
    "df_merged_gender_race_ell['MEAN_SCORE_non-english_language_learners'].fillna(df_merged_gender_race_ell.groupby([\"ENTITY_CD\"])[\n",
    "    \"MEAN_SCORE_non-english_language_learners\"].transform(\"mean\"), inplace=True)\n",
    "df_merged_gender_race_ell['MEAN_SCORE_non-english_language_learners'].fillna(df_merged_gender_race_ell.groupby([\"YEAR\"])[\n",
    "    \"MEAN_SCORE_non-english_language_learners\"].transform(\"mean\"), inplace=True)\n"
   ]
  },
  {
   "cell_type": "code",
   "execution_count": 47,
   "metadata": {},
   "outputs": [
    {
     "data": {
      "text/plain": [
       "0"
      ]
     },
     "execution_count": 47,
     "metadata": {},
     "output_type": "execute_result"
    }
   ],
   "source": [
    "df_merged_gender_race_ell['MEAN_SCORE_english_language_learners'].isnull().sum()"
   ]
  },
  {
   "cell_type": "code",
   "execution_count": 48,
   "metadata": {},
   "outputs": [],
   "source": [
    "# df_merged_gender_race_ell[''].isnull().sum()"
   ]
  },
  {
   "cell_type": "code",
   "execution_count": 52,
   "metadata": {},
   "outputs": [
    {
     "data": {
      "text/plain": [
       "Index(['MEAN_SCORE', 'Female_MEAN_SCORE', 'Male_MEAN_SCORE',\n",
       "       'MEAN_SCORE_white', 'MEAN_SCORE_non_white',\n",
       "       'MEAN_SCORE_english_language_learners',\n",
       "       'MEAN_SCORE_non-english_language_learners'],\n",
       "      dtype='object')"
      ]
     },
     "execution_count": 52,
     "metadata": {},
     "output_type": "execute_result"
    }
   ],
   "source": [
    "df_merged_gender_race_ell.columns[df_merged_gender_race_ell.columns.str.contains('MEAN_SCORE')]"
   ]
  },
  {
   "cell_type": "code",
   "execution_count": 53,
   "metadata": {},
   "outputs": [
    {
     "data": {
      "text/plain": [
       "0"
      ]
     },
     "execution_count": 53,
     "metadata": {},
     "output_type": "execute_result"
    }
   ],
   "source": [
    "df_merged_gender_race_ell['MEAN_SCORE_non-english_language_learners'].isnull().sum()"
   ]
  },
  {
   "cell_type": "code",
   "execution_count": 54,
   "metadata": {},
   "outputs": [
    {
     "data": {
      "text/plain": [
       "0"
      ]
     },
     "execution_count": 54,
     "metadata": {},
     "output_type": "execute_result"
    }
   ],
   "source": [
    "df_merged_gender_race_ell['MEAN_SCORE_english_language_learners'].isnull().sum()"
   ]
  },
  {
   "cell_type": "code",
   "execution_count": 55,
   "metadata": {},
   "outputs": [],
   "source": [
    "df_merged_gender_race_ell.to_csv(\"/workspaces/IDS701_Final_Project_Du/00_Source_Date/IDS701_final_data.csv\", index=False)"
   ]
  },
  {
   "cell_type": "code",
   "execution_count": 57,
   "metadata": {},
   "outputs": [],
   "source": [
    "# df = pd.read_csv(\"/workspaces/IDS701_Final_Project_Du/00_Source_Date/IDS701_final_data.csv\")\n",
    "# df.head()"
   ]
  },
  {
   "cell_type": "code",
   "execution_count": null,
   "metadata": {},
   "outputs": [],
   "source": []
  }
 ],
 "metadata": {
  "kernelspec": {
   "display_name": "Python 3.10.6",
   "language": "python",
   "name": "python3"
  },
  "language_info": {
   "codemirror_mode": {
    "name": "ipython",
    "version": 3
   },
   "file_extension": ".py",
   "mimetype": "text/x-python",
   "name": "python",
   "nbconvert_exporter": "python",
   "pygments_lexer": "ipython3",
   "version": "3.10.4"
  },
  "orig_nbformat": 4,
  "vscode": {
   "interpreter": {
    "hash": "3d597f4c481aa0f25dceb95d2a0067e73c0966dcbd003d741d821a7208527ecf"
   }
  }
 },
 "nbformat": 4,
 "nbformat_minor": 2
}
